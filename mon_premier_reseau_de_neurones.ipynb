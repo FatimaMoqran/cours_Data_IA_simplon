{
  "nbformat": 4,
  "nbformat_minor": 0,
  "metadata": {
    "colab": {
      "name": "mon_premier_reseau_de_neurones.ipynb",
      "version": "0.3.2",
      "provenance": [],
      "include_colab_link": true
    },
    "kernelspec": {
      "name": "python3",
      "display_name": "Python 3"
    }
  },
  "cells": [
    {
      "cell_type": "markdown",
      "metadata": {
        "id": "view-in-github",
        "colab_type": "text"
      },
      "source": [
        "<a href=\"https://colab.research.google.com/github/FatimaMoqran/cours_Data_IA_simplon/blob/master/mon_premier_reseau_de_neurones.ipynb\" target=\"_parent\"><img src=\"https://colab.research.google.com/assets/colab-badge.svg\" alt=\"Open In Colab\"/></a>"
      ]
    },
    {
      "cell_type": "code",
      "metadata": {
        "id": "bz3XCq4uBP-0",
        "colab_type": "code",
        "colab": {}
      },
      "source": [
        "import numpy as np\n"
      ],
      "execution_count": 0,
      "outputs": []
    },
    {
      "cell_type": "code",
      "metadata": {
        "id": "hLITfzxJBWoH",
        "colab_type": "code",
        "colab": {
          "base_uri": "https://localhost:8080/",
          "height": 1065
        },
        "outputId": "c4d5406e-d49b-45de-f88a-9ade02668cbf"
      },
      "source": [
        "#les données Xor trouvées de manière aléatoire\n",
        "X = np.random.randint(2,size = (2,400))\n",
        "print(X)\n",
        "Y = np.logical_xor(X[0,:],X[1,:])\n",
        "print(Y)\n",
        "X.shape, Y.shape"
      ],
      "execution_count": 42,
      "outputs": [
        {
          "output_type": "stream",
          "text": [
            "[[1 1 0 1 0 1 0 0 0 1 0 1 0 0 1 1 0 0 1 0 0 1 1 1 0 1 0 1 1 1 0 0 0 1 0 0\n",
            "  1 0 0 1 1 0 0 0 0 0 1 1 0 1 0 1 0 1 1 0 0 1 0 1 0 1 1 1 0 1 0 1 1 0 1 0\n",
            "  0 1 1 0 0 1 1 1 1 0 1 0 0 0 1 0 0 1 0 0 0 0 0 1 0 1 0 1 1 1 0 0 0 1 0 0\n",
            "  1 1 0 0 1 1 0 1 0 0 1 0 0 1 0 1 0 0 1 1 1 1 0 1 0 0 0 1 1 0 1 0 1 0 1 1\n",
            "  1 1 1 1 1 0 0 0 1 0 1 1 0 1 1 0 0 1 1 1 0 1 0 0 0 0 0 0 1 0 1 1 0 1 0 0\n",
            "  1 1 1 1 1 0 0 0 0 0 1 1 1 0 0 1 0 1 1 1 1 0 1 1 0 1 0 1 1 1 1 0 0 1 0 0\n",
            "  0 0 1 1 0 0 0 0 1 1 1 0 0 0 0 1 1 0 0 0 1 0 1 0 1 1 0 1 1 0 0 1 1 0 0 1\n",
            "  1 1 0 1 0 0 0 1 1 1 0 0 0 0 1 1 0 0 1 1 1 0 1 1 0 0 0 1 1 1 0 0 1 1 0 1\n",
            "  1 0 0 0 0 0 0 0 0 1 0 0 1 0 1 0 1 1 1 0 0 0 1 0 0 0 1 1 1 1 1 0 1 0 0 0\n",
            "  0 0 0 0 1 1 1 1 1 1 0 0 1 0 1 1 0 1 1 1 0 1 0 1 0 1 1 1 1 0 0 0 0 0 0 1\n",
            "  0 0 0 1 1 0 0 0 1 1 0 1 1 1 1 0 1 1 0 1 1 1 1 1 1 1 0 0 1 1 1 1 0 0 0 0\n",
            "  1 0 0 0]\n",
            " [1 1 0 1 1 0 0 0 0 1 0 1 1 0 1 1 1 0 0 0 0 0 1 1 0 0 1 1 1 1 0 1 1 1 1 0\n",
            "  0 0 1 1 1 1 0 0 0 1 1 1 0 0 0 0 1 0 1 0 0 0 1 1 0 1 0 0 1 0 1 0 0 1 0 0\n",
            "  1 0 1 1 0 1 1 0 0 1 1 1 0 1 0 0 1 0 1 1 1 1 0 0 1 1 0 1 0 0 1 1 0 0 1 1\n",
            "  0 1 0 1 1 1 0 1 0 0 0 0 1 1 0 0 0 0 0 0 0 1 0 0 0 1 1 1 1 0 0 0 0 0 0 0\n",
            "  0 1 0 0 1 1 0 1 0 0 1 1 0 1 0 1 0 0 0 1 1 1 0 1 0 1 0 0 1 0 1 0 1 1 0 0\n",
            "  0 1 1 0 1 1 1 0 1 0 1 0 0 1 1 1 0 0 1 0 0 0 1 0 1 0 0 1 1 1 0 0 0 0 1 1\n",
            "  1 0 0 0 0 0 1 1 0 1 0 0 1 0 1 1 1 1 1 1 0 1 0 0 0 1 0 1 0 1 0 1 1 1 1 0\n",
            "  1 1 1 0 0 1 0 0 0 0 0 1 1 1 1 0 0 0 0 1 1 1 0 0 0 1 0 1 0 0 0 1 1 1 1 1\n",
            "  1 0 0 1 1 0 1 1 0 1 1 0 1 0 0 1 1 1 0 1 0 1 0 1 1 1 0 0 0 0 0 0 0 0 0 1\n",
            "  0 1 0 0 1 0 0 1 1 1 1 0 0 1 0 1 0 0 1 1 1 1 1 0 1 1 1 1 1 0 1 1 0 1 0 0\n",
            "  0 1 0 0 0 0 0 1 0 0 1 0 1 0 0 1 1 0 1 1 0 1 0 0 0 0 0 1 1 1 1 1 0 0 1 1\n",
            "  1 0 0 1]]\n",
            "[False False False False  True  True False False False False False False\n",
            "  True False False False  True False  True False False  True False False\n",
            " False  True  True False False False False  True  True False  True False\n",
            "  True False  True False False  True False False False  True False False\n",
            " False  True False  True  True  True False False False  True  True False\n",
            " False False  True  True  True  True  True  True  True  True  True False\n",
            "  True  True False  True False False False  True  True  True False  True\n",
            " False  True  True False  True  True  True  True  True  True False  True\n",
            "  True False False False  True  True  True  True False  True  True  True\n",
            "  True False False  True False False False False False False  True False\n",
            "  True False False  True False False  True  True  True False False  True\n",
            " False  True  True False False False  True False  True False  True  True\n",
            "  True False  True  True False  True False  True  True False False False\n",
            " False False  True  True False  True  True False  True False False  True\n",
            " False  True False False False False False  True  True False False False\n",
            "  True False False  True False  True  True False  True False False  True\n",
            "  True  True  True False False  True False  True  True False False  True\n",
            "  True  True False False False False  True False False  True  True  True\n",
            "  True False  True  True False False  True  True  True False  True False\n",
            "  True False  True False False  True  True  True  True  True  True False\n",
            "  True False False False  True  True False False False  True  True  True\n",
            " False False  True  True False  True False  True  True  True False  True\n",
            "  True  True False  True False False  True False False  True  True  True\n",
            " False  True False False  True  True False  True False False  True False\n",
            " False False False  True  True False  True  True False False  True False\n",
            " False False  True  True False False  True  True False  True  True  True\n",
            "  True  True  True  True  True  True  True False  True False False  True\n",
            " False  True False False False  True  True False False False  True False\n",
            "  True  True  True False False  True False False  True False  True  True\n",
            "  True False False False False False  True  True False  True False  True\n",
            " False  True False  True  True False False  True  True  True  True  True\n",
            " False  True  True  True False  True  True False  True False  True  True\n",
            "  True  True False  True False False False False False False  True  True\n",
            " False False False  True]\n"
          ],
          "name": "stdout"
        },
        {
          "output_type": "execute_result",
          "data": {
            "text/plain": [
              "((2, 400), (400,))"
            ]
          },
          "metadata": {
            "tags": []
          },
          "execution_count": 42
        }
      ]
    },
    {
      "cell_type": "code",
      "metadata": {
        "id": "s02PilltDQns",
        "colab_type": "code",
        "colab": {
          "base_uri": "https://localhost:8080/",
          "height": 34
        },
        "outputId": "c13440fc-1c6e-4d27-c02c-1bbc65bc797f"
      },
      "source": [
        "#j'ai 2 lignes et 400 colonnes\n",
        "X.shape"
      ],
      "execution_count": 39,
      "outputs": [
        {
          "output_type": "execute_result",
          "data": {
            "text/plain": [
              "(2, 400)"
            ]
          },
          "metadata": {
            "tags": []
          },
          "execution_count": 39
        }
      ]
    },
    {
      "cell_type": "code",
      "metadata": {
        "id": "M0LqMWpTAsb1",
        "colab_type": "code",
        "colab": {
          "base_uri": "https://localhost:8080/",
          "height": 34
        },
        "outputId": "97e926ff-d525-4238-aab8-9dd83b3b4710"
      },
      "source": [
        "Y.shape"
      ],
      "execution_count": 43,
      "outputs": [
        {
          "output_type": "execute_result",
          "data": {
            "text/plain": [
              "(400,)"
            ]
          },
          "metadata": {
            "tags": []
          },
          "execution_count": 43
        }
      ]
    },
    {
      "cell_type": "code",
      "metadata": {
        "id": "EFv8BUVrBLxV",
        "colab_type": "code",
        "colab": {
          "base_uri": "https://localhost:8080/",
          "height": 34
        },
        "outputId": "13bdd432-813e-469c-b7fa-d141dc1a8d81"
      },
      "source": [
        "#j'ai une ligne 400 colonnes\n",
        "Y= Y.reshape(1,400)\n",
        "Y.shape"
      ],
      "execution_count": 44,
      "outputs": [
        {
          "output_type": "execute_result",
          "data": {
            "text/plain": [
              "(1, 400)"
            ]
          },
          "metadata": {
            "tags": []
          },
          "execution_count": 44
        }
      ]
    },
    {
      "cell_type": "code",
      "metadata": {
        "id": "T7-E4QuMDbVk",
        "colab_type": "code",
        "colab": {}
      },
      "source": [
        "# definir la Sigmoid:\n",
        "def sigmoid(z):\n",
        "  s= 1/(1+np.exp(-z))\n",
        "  return s"
      ],
      "execution_count": 0,
      "outputs": []
    },
    {
      "cell_type": "code",
      "metadata": {
        "id": "Nr-JHlZZ6qd6",
        "colab_type": "code",
        "colab": {
          "base_uri": "https://localhost:8080/",
          "height": 34
        },
        "outputId": "4aac12a2-78d0-4313-8382-1846ae73c6dd"
      },
      "source": [
        "#test\n",
        "sigmoid(2)"
      ],
      "execution_count": 16,
      "outputs": [
        {
          "output_type": "execute_result",
          "data": {
            "text/plain": [
              "0.8807970779778823"
            ]
          },
          "metadata": {
            "tags": []
          },
          "execution_count": 16
        }
      ]
    },
    {
      "cell_type": "code",
      "metadata": {
        "id": "XgSiiTkD7mtq",
        "colab_type": "code",
        "colab": {
          "base_uri": "https://localhost:8080/",
          "height": 34
        },
        "outputId": "bf7c18cf-d3e8-425e-caec-28b7cd4c2d0d"
      },
      "source": [
        "#test sigmoid d'un array\n",
        "sigmoid_array= sigmoid(np.array([0,2]))\n",
        "sigmoid_array X -- input dataset of shape (input size, number of examples)"
      ],
      "execution_count": 19,
      "outputs": [
        {
          "output_type": "execute_result",
          "data": {
            "text/plain": [
              "array([0.5       , 0.88079708])"
            ]
          },
          "metadata": {
            "tags": []
          },
          "execution_count": 19
        }
      ]
    },
    {
      "cell_type": "code",
      "metadata": {
        "id": "vAfp-MJ7_KQ-",
        "colab_type": "code",
        "colab": {}
      },
      "source": [
        "#définir la structure du neural network:\n",
        "def layer_size(X,Y):\n",
        "  \n",
        "    \"\"\" X -- input dataset of shape (input size, number of examples)\n",
        "    Y -- labels of shape (output size, number of examples)\n",
        "  \n",
        "    Returns:\n",
        "    n_x -- the size of the input layer\n",
        "    n_h -- the size of the hidden layer\n",
        "    n_y -- the size of the output layer\"\"\"\n",
        "\n",
        "    n_x = X.shape[0] #taille du input layer\n",
        "    n_y = Y.shape[0]#taille du otput layer\n",
        "    n_h = 4 #je defini le nombre de noeud dans ma hidden layer\n",
        "  \n",
        "    return n_x, n_y, n_h\n",
        "\n",
        "\n"
      ],
      "execution_count": 0,
      "outputs": []
    },
    {
      "cell_type": "code",
      "metadata": {
        "id": "1d3iMA7I8UUt",
        "colab_type": "code",
        "colab": {}
      },
      "source": [
        "#initialisation des paramètres:\n",
        "\"\"\"Argument:\n",
        "    n_x -- size of the input layer\n",
        "    n_h -- size of the hidden layer\n",
        "    n_y -- size of the output layer\n",
        "    \n",
        "    Returns:\n",
        "    params -- python dictionary containing your parameters:\n",
        "                    W1 -- weight matrix of shape (n_h, n_x)\n",
        "                    b1 -- bias vector of shape (n_h, 1)\n",
        "                    W2 -- weight matrix of shape (n_y, n_h)\n",
        "                    b2 -- bias vector of shape (n_y, 1)\n",
        "    \"\"\"\n"
      ],
      "execution_count": 0,
      "outputs": []
    }
  ]
}