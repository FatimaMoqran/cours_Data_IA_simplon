{
  "nbformat": 4,
  "nbformat_minor": 0,
  "metadata": {
    "colab": {
      "name": "neural_network _l_layer.ipynb",
      "version": "0.3.2",
      "provenance": [],
      "include_colab_link": true
    },
    "kernelspec": {
      "name": "python3",
      "display_name": "Python 3"
    }
  },
  "cells": [
    {
      "cell_type": "markdown",
      "metadata": {
        "id": "view-in-github",
        "colab_type": "text"
      },
      "source": [
        "<a href=\"https://colab.research.google.com/github/FatimaMoqran/cours_Data_IA_simplon/blob/master/neural_network__l_layer.ipynb\" target=\"_parent\"><img src=\"https://colab.research.google.com/assets/colab-badge.svg\" alt=\"Open In Colab\"/></a>"
      ]
    },
    {
      "cell_type": "code",
      "metadata": {
        "id": "3jz3LVa_3UQa",
        "colab_type": "code",
        "colab": {}
      },
      "source": [
        "# importation des librairies\n",
        "\n",
        "import numpy as np"
      ],
      "execution_count": 0,
      "outputs": []
    },
    {
      "cell_type": "code",
      "metadata": {
        "id": "dNK_hpwf4MD5",
        "colab_type": "code",
        "colab": {}
      },
      "source": [
        "# dataset Xor \n",
        "#nombres entiers 2 nombres (0 et 1) avec un array de taille (2,400)\n",
        "X = np.random.randint(2, size=(2,400))\n",
        "Y = np.logical_xor(X[0,:],X[1,:])\n"
      ],
      "execution_count": 0,
      "outputs": []
    },
    {
      "cell_type": "code",
      "metadata": {
        "id": "WmmrqBX0-1fC",
        "colab_type": "code",
        "outputId": "d74118f2-a702-4803-a98e-960c373467fc",
        "colab": {
          "base_uri": "https://localhost:8080/",
          "height": 34
        }
      },
      "source": [
        "#print datas\n",
        "\n",
        "X.shape\n"
      ],
      "execution_count": 4,
      "outputs": [
        {
          "output_type": "execute_result",
          "data": {
            "text/plain": [
              "(2, 400)"
            ]
          },
          "metadata": {
            "tags": []
          },
          "execution_count": 4
        }
      ]
    },
    {
      "cell_type": "code",
      "metadata": {
        "id": "5IEkUlRw_Pg1",
        "colab_type": "code",
        "outputId": "29ffd0e7-1042-4790-ee22-3f2048bdf4c8",
        "colab": {
          "base_uri": "https://localhost:8080/",
          "height": 34
        }
      },
      "source": [
        "Y.shape"
      ],
      "execution_count": 5,
      "outputs": [
        {
          "output_type": "execute_result",
          "data": {
            "text/plain": [
              "(400,)"
            ]
          },
          "metadata": {
            "tags": []
          },
          "execution_count": 5
        }
      ]
    },
    {
      "cell_type": "code",
      "metadata": {
        "id": "oeCefMhU_SSF",
        "colab_type": "code",
        "outputId": "b82c9972-c8e1-4afb-fac1-2a3503ddf0f9",
        "colab": {
          "base_uri": "https://localhost:8080/",
          "height": 34
        }
      },
      "source": [
        "#numpy ne reconnais pas alors reshape\n",
        "Y = Y.reshape(1,400)\n",
        "Y.shape"
      ],
      "execution_count": 6,
      "outputs": [
        {
          "output_type": "execute_result",
          "data": {
            "text/plain": [
              "(1, 400)"
            ]
          },
          "metadata": {
            "tags": []
          },
          "execution_count": 6
        }
      ]
    },
    {
      "cell_type": "code",
      "metadata": {
        "id": "z9UhYPyQBG1-",
        "colab_type": "code",
        "colab": {}
      },
      "source": [
        "#m = nombre d'exemples\n"
      ],
      "execution_count": 0,
      "outputs": []
    },
    {
      "cell_type": "code",
      "metadata": {
        "id": "rVf5TJITCb8n",
        "colab_type": "code",
        "colab": {}
      },
      "source": [
        "def sigmoid(Z):\n",
        "  \n",
        "  s = 1/(1+(np.exp(-Z)))\n",
        "  \n",
        "  return s"
      ],
      "execution_count": 0,
      "outputs": []
    },
    {
      "cell_type": "code",
      "metadata": {
        "id": "M4N6R6GeFB0Q",
        "colab_type": "code",
        "outputId": "ba3fcb20-fb3b-4455-d1a4-593bbf8c532e",
        "colab": {
          "base_uri": "https://localhost:8080/",
          "height": 34
        }
      },
      "source": [
        "#test sigmoid\n",
        "\n",
        "sigmoid(2)"
      ],
      "execution_count": 8,
      "outputs": [
        {
          "output_type": "execute_result",
          "data": {
            "text/plain": [
              "0.8807970779778823"
            ]
          },
          "metadata": {
            "tags": []
          },
          "execution_count": 8
        }
      ]
    },
    {
      "cell_type": "code",
      "metadata": {
        "id": "XOlI6Y8uDAP3",
        "colab_type": "code",
        "colab": {}
      },
      "source": [
        " # Z>0 c'est un test si Z>0 alors on va avoir 1 sinon on va avoir 0\n",
        "  \n",
        "def relu(Z):\n",
        "  \n",
        "    #r = Z * (Z>0)\n",
        "    \n",
        "    r = np.maximum(0,Z)\n",
        "    \n",
        "  \n",
        "    return r"
      ],
      "execution_count": 0,
      "outputs": []
    },
    {
      "cell_type": "code",
      "metadata": {
        "id": "B7oMh2KNEx6D",
        "colab_type": "code",
        "outputId": "575a1a93-b198-45d1-db56-f039ee6c8757",
        "colab": {
          "base_uri": "https://localhost:8080/",
          "height": 34
        }
      },
      "source": [
        "#test relu\n",
        "\n",
        "relu(3)"
      ],
      "execution_count": 10,
      "outputs": [
        {
          "output_type": "execute_result",
          "data": {
            "text/plain": [
              "3"
            ]
          },
          "metadata": {
            "tags": []
          },
          "execution_count": 10
        }
      ]
    },
    {
      "cell_type": "code",
      "metadata": {
        "id": "ivg9I8FdI61t",
        "colab_type": "code",
        "colab": {}
      },
      "source": [
        "#structure du neural network\n",
        "\n",
        "#random seed pour avoir les même nombres aléatoires\n",
        "\n",
        "\n",
        "np.random.seed(3)\n",
        "\n",
        "\n",
        "#print(L)\n",
        "\n",
        "def initialisation_deep(dim_layers):\n",
        "    parameters={}\n",
        "    \n",
        "    L = len(dim_layers)\n",
        "    \n",
        "    for l in range(1,L):\n",
        "    \n",
        "      parameters[f'W{l}']= np.random.randn(dim_layers[l], dim_layers[l-1])*0.01\n",
        "      \n",
        "      parameters[f'b{l}'] = np.zeros((dim_layers[l],1))\n",
        "    \n",
        "    return parameters\n",
        "\n",
        "#test sur les shapes des matrices:\n",
        "\n",
        "    assert(parameters[f\"W{l}\"].shape == (dim_layers[l],dim_layers[l-1]))\n",
        "    assert(parameters[f\"b{l}\"].shape == (dim_layers[l],1))\n",
        "\n"
      ],
      "execution_count": 0,
      "outputs": []
    },
    {
      "cell_type": "code",
      "metadata": {
        "id": "aBTyjd4hj3XZ",
        "colab_type": "code",
        "colab": {}
      },
      "source": [
        "parameters = initialisation_deep([2,3,4,5,1])"
      ],
      "execution_count": 0,
      "outputs": []
    },
    {
      "cell_type": "code",
      "metadata": {
        "id": "tzEv__9U0Riv",
        "colab_type": "code",
        "outputId": "1a1302d5-ddb7-4fd7-ad17-192bc5dd1da8",
        "colab": {
          "base_uri": "https://localhost:8080/",
          "height": 459
        }
      },
      "source": [
        "parameters"
      ],
      "execution_count": 13,
      "outputs": [
        {
          "output_type": "execute_result",
          "data": {
            "text/plain": [
              "{'W1': array([[ 0.01788628,  0.0043651 ],\n",
              "        [ 0.00096497, -0.01863493],\n",
              "        [-0.00277388, -0.00354759]]),\n",
              " 'W2': array([[-0.00082741, -0.00627001, -0.00043818],\n",
              "        [-0.00477218, -0.01313865,  0.00884622],\n",
              "        [ 0.00881318,  0.01709573,  0.00050034],\n",
              "        [-0.00404677, -0.0054536 , -0.01546477]]),\n",
              " 'W3': array([[ 0.00982367, -0.01101068, -0.01185047, -0.0020565 ],\n",
              "        [ 0.01486148,  0.00236716, -0.01023785, -0.00712993],\n",
              "        [ 0.00625245, -0.00160513, -0.00768836, -0.00230031],\n",
              "        [ 0.00745056,  0.01976111, -0.01244123, -0.00626417],\n",
              "        [-0.00803766, -0.02419083, -0.00923792, -0.01023876]]),\n",
              " 'W4': array([[ 0.01123978, -0.00131914, -0.01623285,  0.00646675, -0.00356271]]),\n",
              " 'b1': array([[0.],\n",
              "        [0.],\n",
              "        [0.]]),\n",
              " 'b2': array([[0.],\n",
              "        [0.],\n",
              "        [0.],\n",
              "        [0.]]),\n",
              " 'b3': array([[0.],\n",
              "        [0.],\n",
              "        [0.],\n",
              "        [0.],\n",
              "        [0.]]),\n",
              " 'b4': array([[0.]])}"
            ]
          },
          "metadata": {
            "tags": []
          },
          "execution_count": 13
        }
      ]
    },
    {
      "cell_type": "code",
      "metadata": {
        "id": "w11gsHUA1k5g",
        "colab_type": "code",
        "colab": {}
      },
      "source": [
        "# forward propagate\n",
        "\n",
        "\n",
        "#implémentation d'une forward simple \n",
        "#A ce sont les activations des couches précedentes \n",
        "#W les poids de chaque couches\n",
        "#b les biais pour chaque couche\n",
        "\n",
        "  \n",
        "def forward_simple(A,W,b):\n",
        "  \n",
        "  Z = np.dot(W,A)+b\n",
        "\n",
        "  \n",
        "# rajoute un cache pour stocker mes variables\n",
        "  cache = (A,W,b)\n",
        "  \n",
        "  return Z,cache\n",
        "\n",
        "\n",
        "\n",
        "\n",
        "  assert (Z.shape == (W.shape[0], A.shape[1]))\n",
        "  "
      ],
      "execution_count": 0,
      "outputs": []
    },
    {
      "cell_type": "code",
      "metadata": {
        "id": "5RYNQBkTvmeh",
        "colab_type": "code",
        "outputId": "79c7cd81-f469-4060-fc2e-4747a9bf335d",
        "colab": {
          "base_uri": "https://localhost:8080/",
          "height": 153
        }
      },
      "source": [
        "A_test= np.array([\n",
        "           [3,4,5],\n",
        "           [3,4,7],\n",
        "           [4,2,1]\n",
        "                  ])\n",
        "W_test= np.array([\n",
        "                [5,3,1],\n",
        "                [6,7,9],\n",
        "                [3,5,2]\n",
        "                       ])\n",
        "b_test= ([\n",
        "          [0],\n",
        "          [0],\n",
        "          [0]\n",
        "             ])\n",
        "\n",
        "\n",
        "\n",
        "Z,cache = forward_simple(A_test,W_test,b_test)\n",
        "\n",
        "print(Z)\n",
        "\n",
        "print(cache)"
      ],
      "execution_count": 15,
      "outputs": [
        {
          "output_type": "stream",
          "text": [
            "[[28 34 47]\n",
            " [75 70 88]\n",
            " [32 36 52]]\n",
            "(array([[3, 4, 5],\n",
            "       [3, 4, 7],\n",
            "       [4, 2, 1]]), array([[5, 3, 1],\n",
            "       [6, 7, 9],\n",
            "       [3, 5, 2]]), [[0], [0], [0]])\n"
          ],
          "name": "stdout"
        }
      ]
    },
    {
      "cell_type": "code",
      "metadata": {
        "id": "oHVswA8q06W_",
        "colab_type": "code",
        "colab": {}
      },
      "source": [
        "def forward_activation (A_prev,W,b,activation):\n",
        "    \n",
        "  if activation == 'relu':\n",
        "      \n",
        "    Z,cache = forward_simple(A_prev,W,b)\n",
        "        \n",
        "    A = relu(Z)\n",
        "        \n",
        "  if activation == \"sigmoid\":\n",
        "        \n",
        "    Z,cache = forward_simple(A_prev,W,b)\n",
        "        \n",
        "    A = sigmoid(Z) \n",
        "        \n",
        "    return A\n",
        "  "
      ],
      "execution_count": 0,
      "outputs": []
    },
    {
      "cell_type": "code",
      "metadata": {
        "id": "vAI7Aa5WEWMN",
        "colab_type": "code",
        "outputId": "ed5c77cf-4840-49c9-c353-5eab5aab895c",
        "colab": {
          "base_uri": "https://localhost:8080/",
          "height": 129
        }
      },
      "source": [
        "A = forward_activation(A_test,W_test,b_test,re)lu\n",
        "\n",
        "print(A)"
      ],
      "execution_count": 17,
      "outputs": [
        {
          "output_type": "error",
          "ename": "SyntaxError",
          "evalue": "ignored",
          "traceback": [
            "\u001b[0;36m  File \u001b[0;32m\"<ipython-input-17-7900b9319f0a>\"\u001b[0;36m, line \u001b[0;32m1\u001b[0m\n\u001b[0;31m    A = forward_activation(A_test,W_test,b_test,re)lu\u001b[0m\n\u001b[0m                                                    ^\u001b[0m\n\u001b[0;31mSyntaxError\u001b[0m\u001b[0;31m:\u001b[0m invalid syntax\n"
          ]
        }
      ]
    },
    {
      "cell_type": "code",
      "metadata": {
        "id": "WfE9lHpnvMDB",
        "colab_type": "code",
        "colab": {
          "base_uri": "https://localhost:8080/",
          "height": 136
        },
        "outputId": "f5b8ade4-b852-49c0-fdbf-bc319c72511d"
      },
      "source": [
        "%debug\n",
        "\n"
      ],
      "execution_count": 0,
      "outputs": [
        {
          "output_type": "stream",
          "text": [
            "> \u001b[0;32m/usr/local/lib/python3.6/dist-packages/IPython/core/compilerop.py\u001b[0m(100)\u001b[0;36mast_parse\u001b[0;34m()\u001b[0m\n",
            "\u001b[0;32m     98 \u001b[0;31m        \u001b[0mArguments\u001b[0m \u001b[0mare\u001b[0m \u001b[0mexactly\u001b[0m \u001b[0mthe\u001b[0m \u001b[0msame\u001b[0m \u001b[0;32mas\u001b[0m \u001b[0mast\u001b[0m\u001b[0;34m.\u001b[0m\u001b[0mparse\u001b[0m \u001b[0;34m(\u001b[0m\u001b[0;32min\u001b[0m \u001b[0mthe\u001b[0m \u001b[0mstandard\u001b[0m \u001b[0mlibrary\u001b[0m\u001b[0;34m)\u001b[0m\u001b[0;34m,\u001b[0m\u001b[0;34m\u001b[0m\u001b[0;34m\u001b[0m\u001b[0m\n",
            "\u001b[0m\u001b[0;32m     99 \u001b[0;31m        and are passed to the built-in compile function.\"\"\"\n",
            "\u001b[0m\u001b[0;32m--> 100 \u001b[0;31m        \u001b[0;32mreturn\u001b[0m \u001b[0mcompile\u001b[0m\u001b[0;34m(\u001b[0m\u001b[0msource\u001b[0m\u001b[0;34m,\u001b[0m \u001b[0mfilename\u001b[0m\u001b[0;34m,\u001b[0m \u001b[0msymbol\u001b[0m\u001b[0;34m,\u001b[0m \u001b[0mself\u001b[0m\u001b[0;34m.\u001b[0m\u001b[0mflags\u001b[0m \u001b[0;34m|\u001b[0m \u001b[0mPyCF_ONLY_AST\u001b[0m\u001b[0;34m,\u001b[0m \u001b[0;36m1\u001b[0m\u001b[0;34m)\u001b[0m\u001b[0;34m\u001b[0m\u001b[0;34m\u001b[0m\u001b[0m\n",
            "\u001b[0m\u001b[0;32m    101 \u001b[0;31m\u001b[0;34m\u001b[0m\u001b[0m\n",
            "\u001b[0m\u001b[0;32m    102 \u001b[0;31m    \u001b[0;32mdef\u001b[0m \u001b[0mreset_compiler_flags\u001b[0m\u001b[0;34m(\u001b[0m\u001b[0mself\u001b[0m\u001b[0;34m)\u001b[0m\u001b[0;34m:\u001b[0m\u001b[0;34m\u001b[0m\u001b[0;34m\u001b[0m\u001b[0m\n",
            "\u001b[0m\n"
          ],
          "name": "stdout"
        }
      ]
    },
    {
      "cell_type": "code",
      "metadata": {
        "id": "TvdN1FieO0oG",
        "colab_type": "code",
        "colab": {}
      },
      "source": [
        ""
      ],
      "execution_count": 0,
      "outputs": []
    }
  ]
}