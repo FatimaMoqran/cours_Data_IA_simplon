{
  "nbformat": 4,
  "nbformat_minor": 0,
  "metadata": {
    "colab": {
      "name": "mon_premier_reseau_de_neurones.ipynb",
      "version": "0.3.2",
      "provenance": [],
      "collapsed_sections": [],
      "include_colab_link": true
    },
    "kernelspec": {
      "name": "python3",
      "display_name": "Python 3"
    }
  },
  "cells": [
    {
      "cell_type": "markdown",
      "metadata": {
        "id": "view-in-github",
        "colab_type": "text"
      },
      "source": [
        "<a href=\"https://colab.research.google.com/github/FatimaMoqran/cours_Data_IA_simplon/blob/master/mon_premier_reseau_de_neurones.ipynb\" target=\"_parent\"><img src=\"https://colab.research.google.com/assets/colab-badge.svg\" alt=\"Open In Colab\"/></a>"
      ]
    },
    {
      "cell_type": "code",
      "metadata": {
        "id": "bz3XCq4uBP-0",
        "colab_type": "code",
        "colab": {}
      },
      "source": [
        "import numpy as np\n"
      ],
      "execution_count": 0,
      "outputs": []
    },
    {
      "cell_type": "code",
      "metadata": {
        "id": "hLITfzxJBWoH",
        "colab_type": "code",
        "outputId": "667b42ea-1153-456a-ae71-8be8d8e7417b",
        "colab": {
          "base_uri": "https://localhost:8080/",
          "height": 1065
        }
      },
      "source": [
        "#les données Xor trouvées de manière aléatoire\n",
        "X = np.random.randint(2,size = (2,400))\n",
        "print(X)\n",
        "Y = np.logical_xor(X[0,:],X[1,:])\n",
        "print(Y)\n",
        "X.shape, Y.shape"
      ],
      "execution_count": 0,
      "outputs": [
        {
          "output_type": "stream",
          "text": [
            "[[1 0 0 0 1 1 1 0 0 1 0 0 1 1 1 0 0 0 0 1 1 1 1 0 0 0 0 0 0 0 0 1 1 1 1 1\n",
            "  0 0 0 1 0 1 1 1 0 1 1 0 0 0 1 1 1 1 0 0 0 0 1 0 1 0 0 0 0 0 0 0 0 0 0 1\n",
            "  0 1 0 0 0 1 0 0 1 0 0 1 1 0 1 1 1 1 0 0 0 1 0 1 0 1 0 0 0 1 1 0 0 1 1 1\n",
            "  1 1 1 0 0 0 0 1 1 1 1 0 1 0 1 1 1 1 0 1 0 1 1 0 0 1 1 0 0 0 0 1 0 0 1 1\n",
            "  0 0 1 1 1 1 0 1 1 1 0 0 1 1 0 0 0 1 1 1 0 0 0 1 0 1 0 1 1 0 0 1 0 1 1 1\n",
            "  1 0 1 1 0 1 0 0 1 1 1 1 1 1 1 1 0 1 0 1 0 1 1 1 1 0 0 0 0 0 0 1 1 1 1 0\n",
            "  1 1 1 0 0 1 0 1 1 1 0 0 0 0 1 0 0 0 0 1 1 1 1 1 1 1 0 0 1 1 0 1 1 0 0 0\n",
            "  1 0 1 0 1 0 0 0 0 1 1 1 1 1 0 1 1 0 0 1 0 0 1 1 1 0 1 0 1 0 1 1 1 0 0 0\n",
            "  0 0 0 0 1 0 1 1 1 1 1 1 0 1 1 0 1 0 0 0 0 0 0 1 1 1 1 0 1 0 1 1 1 1 0 1\n",
            "  0 1 1 0 0 1 1 0 0 0 0 0 1 1 0 1 1 0 0 1 1 0 0 1 1 0 0 0 1 1 0 1 1 0 1 0\n",
            "  0 0 1 0 0 1 0 0 1 1 1 1 1 1 1 1 1 0 0 0 0 0 1 1 1 0 0 1 0 1 0 1 0 0 1 0\n",
            "  1 1 1 0]\n",
            " [0 0 1 1 1 1 0 0 1 1 1 0 0 0 0 1 1 0 0 0 0 1 0 0 1 1 0 1 1 0 0 1 0 1 0 0\n",
            "  1 0 1 1 0 0 0 0 1 0 1 0 1 0 1 1 1 0 0 0 0 1 1 1 1 1 0 1 1 1 0 1 1 0 1 0\n",
            "  0 1 0 0 0 1 1 0 0 1 1 1 0 1 0 1 1 0 0 0 0 1 0 0 0 0 0 1 1 1 1 1 0 0 1 1\n",
            "  0 0 0 0 0 1 1 0 0 0 0 1 1 1 0 0 1 0 1 0 0 1 1 1 1 0 1 1 1 0 0 0 1 1 1 0\n",
            "  0 1 0 0 1 1 1 0 1 0 0 1 0 0 1 0 0 0 0 1 1 0 0 1 1 0 0 1 1 0 1 0 0 0 0 0\n",
            "  1 1 1 1 1 1 0 0 0 0 1 1 0 0 0 0 0 0 0 1 1 1 0 1 1 1 1 0 1 0 0 0 0 1 0 0\n",
            "  1 1 1 1 0 0 0 1 0 0 1 1 1 0 0 0 0 0 0 1 1 0 1 1 1 1 1 1 1 0 1 1 0 0 1 0\n",
            "  0 1 0 1 0 1 0 0 1 0 1 0 0 1 1 1 0 1 1 0 0 1 0 0 0 1 0 0 1 0 0 1 0 0 1 1\n",
            "  1 1 0 0 0 0 0 1 0 0 1 0 0 1 0 1 1 0 0 1 0 1 0 1 0 0 1 0 1 1 0 0 1 1 1 1\n",
            "  1 1 0 0 0 1 1 0 1 0 1 0 1 0 1 0 1 1 0 1 1 1 1 0 0 1 1 1 1 1 0 0 1 0 1 1\n",
            "  1 1 0 0 1 0 0 1 1 1 1 0 1 0 1 0 1 1 0 0 0 0 1 1 0 0 1 0 0 1 1 0 0 0 1 0\n",
            "  0 1 1 0]]\n",
            "[ True False  True  True False False  True False  True False  True False\n",
            "  True  True  True  True  True False False  True  True False  True False\n",
            "  True  True False  True  True False False False  True False  True  True\n",
            "  True False  True False False  True  True  True  True  True False False\n",
            "  True False False False False  True False False False  True False  True\n",
            " False  True False  True  True  True False  True  True False  True  True\n",
            " False False False False False False  True False  True  True  True False\n",
            "  True  True  True False False  True False False False False False  True\n",
            " False  True False  True  True False False  True False  True False False\n",
            "  True  True  True False False  True  True  True  True  True  True  True\n",
            " False  True  True  True False  True  True  True False False False  True\n",
            "  True  True False  True  True False False  True  True  True False  True\n",
            " False  True  True  True False False  True  True False  True False  True\n",
            "  True  True  True False False  True  True False  True False False False\n",
            "  True  True False False False False  True  True False  True  True  True\n",
            " False  True False False  True False False False  True  True False False\n",
            "  True  True  True  True False  True False False  True False  True False\n",
            " False  True  True False  True False False  True  True False  True False\n",
            " False False False  True False  True False False  True  True  True  True\n",
            "  True False  True False False False False False False  True False False\n",
            " False False  True  True False  True  True False  True False  True False\n",
            "  True  True  True  True  True  True False False  True  True False  True\n",
            "  True False  True False  True  True  True  True False  True  True  True\n",
            "  True  True  True False False False  True False  True False  True  True\n",
            "  True  True False False  True False  True False  True  True False  True\n",
            " False False  True  True False False False  True False  True False False\n",
            "  True  True False False False  True  True  True False False  True False\n",
            "  True False  True False False False False False  True False  True False\n",
            " False  True  True  True False  True False False False  True  True  True\n",
            "  True  True  True  True False False False  True False False False  True\n",
            "  True  True  True False  True  True False  True False False False  True\n",
            " False  True False  True False  True False False False False False False\n",
            "  True False  True  True False False  True  True False False False False\n",
            "  True False False False]\n"
          ],
          "name": "stdout"
        },
        {
          "output_type": "execute_result",
          "data": {
            "text/plain": [
              "((2, 400), (400,))"
            ]
          },
          "metadata": {
            "tags": []
          },
          "execution_count": 40
        }
      ]
    },
    {
      "cell_type": "code",
      "metadata": {
        "id": "s02PilltDQns",
        "colab_type": "code",
        "outputId": "c6c29f2d-a664-4dfa-ec94-54fc11c27213",
        "colab": {
          "base_uri": "https://localhost:8080/",
          "height": 34
        }
      },
      "source": [
        "#j'ai 2 lignes et 400 colonnes\n",
        "X.shape"
      ],
      "execution_count": 0,
      "outputs": [
        {
          "output_type": "execute_result",
          "data": {
            "text/plain": [
              "(2, 400)"
            ]
          },
          "metadata": {
            "tags": []
          },
          "execution_count": 41
        }
      ]
    },
    {
      "cell_type": "code",
      "metadata": {
        "id": "M0LqMWpTAsb1",
        "colab_type": "code",
        "outputId": "36bd98f8-8d5c-4def-ac7f-91cd89fa3b7d",
        "colab": {
          "base_uri": "https://localhost:8080/",
          "height": 34
        }
      },
      "source": [
        "Y.shape"
      ],
      "execution_count": 0,
      "outputs": [
        {
          "output_type": "execute_result",
          "data": {
            "text/plain": [
              "(400,)"
            ]
          },
          "metadata": {
            "tags": []
          },
          "execution_count": 42
        }
      ]
    },
    {
      "cell_type": "code",
      "metadata": {
        "id": "EFv8BUVrBLxV",
        "colab_type": "code",
        "outputId": "fff84fba-1226-419b-e3f1-8079e30c148f",
        "colab": {
          "base_uri": "https://localhost:8080/",
          "height": 34
        }
      },
      "source": [
        "#j'ai une ligne 400 colonnes\n",
        "Y= Y.reshape(1,400)\n",
        "Y.shape"
      ],
      "execution_count": 0,
      "outputs": [
        {
          "output_type": "execute_result",
          "data": {
            "text/plain": [
              "(1, 400)"
            ]
          },
          "metadata": {
            "tags": []
          },
          "execution_count": 43
        }
      ]
    },
    {
      "cell_type": "code",
      "metadata": {
        "id": "T7-E4QuMDbVk",
        "colab_type": "code",
        "colab": {}
      },
      "source": [
        "# definir la Sigmoid:\n",
        "def sigmoid(z):\n",
        "  s= 1/(1+np.exp(-z))\n",
        "  return s"
      ],
      "execution_count": 0,
      "outputs": []
    },
    {
      "cell_type": "code",
      "metadata": {
        "id": "Nr-JHlZZ6qd6",
        "colab_type": "code",
        "outputId": "fccb05a8-711d-4d21-ef65-ce815c31c616",
        "colab": {
          "base_uri": "https://localhost:8080/",
          "height": 34
        }
      },
      "source": [
        "#test\n",
        "sigmoid(2)"
      ],
      "execution_count": 0,
      "outputs": [
        {
          "output_type": "execute_result",
          "data": {
            "text/plain": [
              "0.8807970779778823"
            ]
          },
          "metadata": {
            "tags": []
          },
          "execution_count": 45
        }
      ]
    },
    {
      "cell_type": "code",
      "metadata": {
        "id": "XgSiiTkD7mtq",
        "colab_type": "code",
        "outputId": "2422f8e2-3ea0-4887-bee6-99b3928176a6",
        "colab": {
          "base_uri": "https://localhost:8080/",
          "height": 34
        }
      },
      "source": [
        "#test sigmoid d'un array\n",
        "sigmoid_array= sigmoid(np.array([0,2]))\n",
        "sigmoid_array"
      ],
      "execution_count": 0,
      "outputs": [
        {
          "output_type": "execute_result",
          "data": {
            "text/plain": [
              "array([0.5       , 0.88079708])"
            ]
          },
          "metadata": {
            "tags": []
          },
          "execution_count": 46
        }
      ]
    },
    {
      "cell_type": "code",
      "metadata": {
        "id": "vAfp-MJ7_KQ-",
        "colab_type": "code",
        "colab": {}
      },
      "source": [
        "#définir la structure du neural network:\n",
        "def layer_size(X,Y):\n",
        "  \n",
        "    \"\"\" X -- input dataset of shape (input size, number of examples)\n",
        "    Y -- labels of shape (output size, number of examples)\n",
        "  \n",
        "    Returns:\n",
        "    n_x -- the size of the input layer\n",
        "    n_h -- the size of the hidden layer\n",
        "    n_y -- the size of the output layer\"\"\"\n",
        "\n",
        "    n_x = X.shape[0] #taille du input layer\n",
        "    n_y = Y.shape[0]#taille du output layer\n",
        "    n_h = 4  #je defini le nombre de noeud dans ma hidden layer\n",
        "  \n",
        "    return (n_x, n_y, n_h)\n",
        "\n",
        "\n"
      ],
      "execution_count": 0,
      "outputs": []
    },
    {
      "cell_type": "code",
      "metadata": {
        "id": "8R4vcdCAO6hP",
        "colab_type": "code",
        "colab": {}
      },
      "source": [
        "(n_x,n_y,n_h)= layer_size(X,Y)\n"
      ],
      "execution_count": 0,
      "outputs": []
    },
    {
      "cell_type": "code",
      "metadata": {
        "id": "1d3iMA7I8UUt",
        "colab_type": "code",
        "colab": {}
      },
      "source": [
        "#initialisation des paramètres:\n",
        "def initialisation_parameters(n_x,n_h,n_y):\n",
        "    \"\"\"Argument:\n",
        "        n_x -- size of the input layer\n",
        "        n_h -- size of the hidden layer\n",
        "        n_y -- size of the output layer\n",
        "\n",
        "        Returns:\n",
        "        params -- python dictionary containing your parameters:\n",
        "                        W1 -- weight matrix of shape (n_h, n_x)\n",
        "                        b1 -- bias vector of shape (n_h, 1)\n",
        "                        W2 -- weight matrix of shape (n_y, n_h)\n",
        "                        b2 -- bias vector of shape (n_y, 1)\n",
        "     \n",
        "     \n",
        "     \"\"\"\n",
        "    #initialisation pseudo aléatoire (il faut que les random soient fixés )\n",
        "    np.random.seed(2)\n",
        "    \n",
        "    \n",
        "    #initialisation W1,W2 de manière aléatoire\n",
        "    #initialisation b1,b2 avec des zeros (il faut les mettre dans un tuple)\n",
        "\n",
        "    W1 = np.random.randn(n_h,n_x) * 0.01\n",
        "    b1 = np.zeros((n_h,1))\n",
        "    W2 = np.random.randn(n_y,n_h) * 0.01\n",
        "    b2 = np.zeros((n_y,1))\n",
        "\n",
        "    #tests pour être sur d'avoir les bonnes shapes de matrices\n",
        "\n",
        "   \n",
        "    assert (W1.shape == (n_h , n_x))\n",
        "    assert (b1.shape == (n_h , 1))\n",
        "    assert (W2.shape == (n_y , n_h))\n",
        "    assert (b2.shape == (n_y , 1))\n",
        "    \n",
        "   \n",
        "    \n",
        "    # je stock dans un dictionnaire \"parameters\"\n",
        "\n",
        "    parameters = {\"W1\":W1,\n",
        "                 \"b1\": b1,\n",
        "                 \"W2\": W2,\n",
        "                 \"b2\": b2}\n",
        "    \n",
        "    return parameters\n",
        "\n"
      ],
      "execution_count": 0,
      "outputs": []
    },
    {
      "cell_type": "code",
      "metadata": {
        "id": "eXLhuk8aRDQ3",
        "colab_type": "code",
        "colab": {}
      },
      "source": [
        "parameters = initialisation_parameters(n_x,n_h,n_y)"
      ],
      "execution_count": 0,
      "outputs": []
    },
    {
      "cell_type": "code",
      "metadata": {
        "id": "Ge-4iyTmZHok",
        "colab_type": "code",
        "colab": {}
      },
      "source": [
        "#forward propagation\n",
        "def forward_propagate(X,parameters):\n",
        "  \n",
        "#je récupère mes données de mes dictionnaires\n",
        "\n",
        "    W1 = parameters[\"W1\"]\n",
        "    b1 = parameters[\"b1\"]\n",
        "    W2 = parameters[\"W2\"]\n",
        "    b2 = parameters[\"b2\"]\n",
        "\n",
        "    # calcule ma forward propagation: Z1 couche 1, A1 activation couche 1, Z2 couche 2, A2(juste avec des sigmoid)\n",
        "\n",
        "    Z1 = np.dot(W1,X)+b1\n",
        "    A1 = sigmoid(Z1)\n",
        "    Z2 = np.dot(W2,A1)+b2\n",
        "    A2 = sigmoid(Z2)\n",
        "    \n",
        "    #teste que ma matrice A2 a les bonnes dimensions\n",
        "    \n",
        "    assert (A2.shape == (1,X.shape[1]))\n",
        "    \n",
        "    #création d'un cache qui stock \"Z1 A1 Z2 A2\" dans un dictionnaire à utliser dans la backward\n",
        "    \n",
        "    cache = { \"Z1\": Z1,\n",
        "             \" A1\": A1,\n",
        "             \"Z2\" : Z2,\n",
        "             \"A2\" : A2 }\n",
        "    return A2, cache\n",
        "    \n",
        "    "
      ],
      "execution_count": 0,
      "outputs": []
    },
    {
      "cell_type": "code",
      "metadata": {
        "id": "2HxiQ0uo94go",
        "colab_type": "code",
        "outputId": "59788a25-461f-437d-de75-4e68e103260d",
        "colab": {
          "base_uri": "https://localhost:8080/",
          "height": 34
        }
      },
      "source": [
        "#test la forward propagation avec les data\n",
        "#toujours stocker sa fonction dans une variable qui a le même nom que le return\n",
        "A2, cache = forward_propagate(X,parameters)\n",
        "A2 , cache\n"
      ],
      "execution_count": 0,
      "outputs": [
        {
          "output_type": "execute_result",
          "data": {
            "text/plain": [
              "(1, 400)"
            ]
          },
          "metadata": {
            "tags": []
          },
          "execution_count": 78
        }
      ]
    },
    {
      "cell_type": "code",
      "metadata": {
        "id": "bI5zUyEzPFCP",
        "colab_type": "code",
        "colab": {}
      },
      "source": [
        "#calcul de la cost function \n",
        "\n",
        "def compute_cost (Y,A2):\n",
        "  \n",
        "    logprobs = - (Y * np.log(A2) + (1-Y) * np.log (1-A2))\n",
        "    cost = np.sum(logprobs)/X.shape[1]\n",
        "  \n",
        "    #on veut que la cost ne soit pas dans un array mais un chiffre \n",
        "    cost = np.squeeze(cost)\n",
        "                                                     \n",
        "    #être sûr d'avoir la cost au bon format\n",
        "    assert(isinstance(cost,float)) \n",
        "    \n",
        "    return cost\n",
        "    \n",
        "  "
      ],
      "execution_count": 0,
      "outputs": []
    },
    {
      "cell_type": "markdown",
      "metadata": {
        "id": "Sucerj_QO6GB",
        "colab_type": "text"
      },
      "source": [
        ""
      ]
    },
    {
      "cell_type": "code",
      "metadata": {
        "id": "zJoiuciiar-b",
        "colab_type": "code",
        "colab": {
          "base_uri": "https://localhost:8080/",
          "height": 34
        },
        "outputId": "6ecb6e96-8529-492c-998e-f00702cd5bd9"
      },
      "source": [
        "cost = compute_cost (Y,A2)\n",
        "print(cost)"
      ],
      "execution_count": 88,
      "outputs": [
        {
          "output_type": "stream",
          "text": [
            "0.6930830760827348\n"
          ],
          "name": "stdout"
        }
      ]
    },
    {
      "cell_type": "code",
      "metadata": {
        "id": "7_0hftyqav-z",
        "colab_type": "code",
        "colab": {}
      },
      "source": [
        ""
      ],
      "execution_count": 0,
      "outputs": []
    }
  ]
}