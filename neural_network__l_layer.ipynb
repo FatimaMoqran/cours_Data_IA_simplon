{
  "nbformat": 4,
  "nbformat_minor": 0,
  "metadata": {
    "colab": {
      "name": "neural_network _l_layer.ipynb",
      "version": "0.3.2",
      "provenance": [],
      "include_colab_link": true
    },
    "kernelspec": {
      "name": "python3",
      "display_name": "Python 3"
    }
  },
  "cells": [
    {
      "cell_type": "markdown",
      "metadata": {
        "id": "view-in-github",
        "colab_type": "text"
      },
      "source": [
        "<a href=\"https://colab.research.google.com/github/FatimaMoqran/cours_Data_IA_simplon/blob/master/neural_network__l_layer.ipynb\" target=\"_parent\"><img src=\"https://colab.research.google.com/assets/colab-badge.svg\" alt=\"Open In Colab\"/></a>"
      ]
    },
    {
      "cell_type": "code",
      "metadata": {
        "id": "3jz3LVa_3UQa",
        "colab_type": "code",
        "colab": {}
      },
      "source": [
        "# importation des librairies\n",
        "\n",
        "import numpy as np"
      ],
      "execution_count": 0,
      "outputs": []
    },
    {
      "cell_type": "code",
      "metadata": {
        "id": "dNK_hpwf4MD5",
        "colab_type": "code",
        "colab": {}
      },
      "source": [
        "# dataset Xor \n",
        "#nombres entiers 2 nombres (0 et 1) avec un array de taille (2,400)\n",
        "X = np.random.randint(2, size=(2,400))\n",
        "Y = np.logical_xor(X[0,:],X[1,:])\n"
      ],
      "execution_count": 0,
      "outputs": []
    },
    {
      "cell_type": "code",
      "metadata": {
        "id": "WmmrqBX0-1fC",
        "colab_type": "code",
        "colab": {
          "base_uri": "https://localhost:8080/",
          "height": 34
        },
        "outputId": "17ed0ec6-8073-4e9a-c641-07e34b1269f7"
      },
      "source": [
        "#print datas\n",
        "\n",
        "X.shape"
      ],
      "execution_count": 39,
      "outputs": [
        {
          "output_type": "execute_result",
          "data": {
            "text/plain": [
              "(2, 400)"
            ]
          },
          "metadata": {
            "tags": []
          },
          "execution_count": 39
        }
      ]
    },
    {
      "cell_type": "code",
      "metadata": {
        "id": "5IEkUlRw_Pg1",
        "colab_type": "code",
        "colab": {
          "base_uri": "https://localhost:8080/",
          "height": 34
        },
        "outputId": "1beba535-1cfb-470e-edec-8a1d820d5e65"
      },
      "source": [
        "Y.shape"
      ],
      "execution_count": 40,
      "outputs": [
        {
          "output_type": "execute_result",
          "data": {
            "text/plain": [
              "(400,)"
            ]
          },
          "metadata": {
            "tags": []
          },
          "execution_count": 40
        }
      ]
    },
    {
      "cell_type": "code",
      "metadata": {
        "id": "oeCefMhU_SSF",
        "colab_type": "code",
        "colab": {
          "base_uri": "https://localhost:8080/",
          "height": 34
        },
        "outputId": "4138b003-5411-44e9-8e69-a486e1bdf2f7"
      },
      "source": [
        "#numpy ne reconnais pas alors reshape\n",
        "Y = Y.reshape(1,400)\n",
        "Y.shape"
      ],
      "execution_count": 41,
      "outputs": [
        {
          "output_type": "execute_result",
          "data": {
            "text/plain": [
              "(1, 400)"
            ]
          },
          "metadata": {
            "tags": []
          },
          "execution_count": 41
        }
      ]
    },
    {
      "cell_type": "code",
      "metadata": {
        "id": "z9UhYPyQBG1-",
        "colab_type": "code",
        "colab": {}
      },
      "source": [
        "#m = nombre d'exemples\n"
      ],
      "execution_count": 0,
      "outputs": []
    },
    {
      "cell_type": "code",
      "metadata": {
        "id": "rVf5TJITCb8n",
        "colab_type": "code",
        "colab": {}
      },
      "source": [
        "def sigmoid(Z):\n",
        "  \n",
        "  s = 1/(1+(np.exp(-Z)))\n",
        "  \n",
        "  return s"
      ],
      "execution_count": 0,
      "outputs": []
    },
    {
      "cell_type": "code",
      "metadata": {
        "id": "M4N6R6GeFB0Q",
        "colab_type": "code",
        "colab": {
          "base_uri": "https://localhost:8080/",
          "height": 34
        },
        "outputId": "3cf5b238-08ff-4ece-ac2d-a7a10608d46a"
      },
      "source": [
        "#test sigmoid\n",
        "\n",
        "sigmoid(2)"
      ],
      "execution_count": 43,
      "outputs": [
        {
          "output_type": "execute_result",
          "data": {
            "text/plain": [
              "0.8807970779778823"
            ]
          },
          "metadata": {
            "tags": []
          },
          "execution_count": 43
        }
      ]
    },
    {
      "cell_type": "code",
      "metadata": {
        "id": "XOlI6Y8uDAP3",
        "colab_type": "code",
        "colab": {}
      },
      "source": [
        " # Z>0 c'est un test si Z>0 alors on va avoir 1 sinon on va avoir 0\n",
        "  \n",
        "def relu(Z):\n",
        "  \n",
        "    #r = Z * (Z>0)\n",
        "    \n",
        "    r = np.maximum(0,Z)\n",
        "    \n",
        "  \n",
        "    return r"
      ],
      "execution_count": 0,
      "outputs": []
    },
    {
      "cell_type": "code",
      "metadata": {
        "id": "B7oMh2KNEx6D",
        "colab_type": "code",
        "colab": {
          "base_uri": "https://localhost:8080/",
          "height": 34
        },
        "outputId": "fcc67400-60e8-49d9-cb93-3adc969b93f8"
      },
      "source": [
        "#test relu\n",
        "\n",
        "relu(3)"
      ],
      "execution_count": 87,
      "outputs": [
        {
          "output_type": "execute_result",
          "data": {
            "text/plain": [
              "3"
            ]
          },
          "metadata": {
            "tags": []
          },
          "execution_count": 87
        }
      ]
    },
    {
      "cell_type": "code",
      "metadata": {
        "id": "ivg9I8FdI61t",
        "colab_type": "code",
        "colab": {}
      },
      "source": [
        "#structure du neural network\n",
        "\n",
        "#random seed pour avoir les même nombres aléatoires\n",
        "\n",
        "\n",
        "np.random.seed(3)\n",
        "\n",
        "\n",
        "#print(L)\n",
        "\n",
        "def initialisation_deep(dim_layers):\n",
        "    parameters={}\n",
        "    \n",
        "    L = len(dim_layers)\n",
        "    \n",
        "    for l in range(1,L):\n",
        "    \n",
        "      parameters[f'W{l}']= np.random.randn(dim_layers[l], dim_layers[l-1])*0.01\n",
        "      \n",
        "      parameters[f'b{l}'] = np.zeros((dim_layers[l],1))\n",
        "    \n",
        "    return parameters\n",
        "\n",
        "#test sur les shapes des matrices:\n",
        "\n",
        "    assert(parameters[f\"W{l}\"].shape == (dim_layers[l],dim_layers[l-1]))\n",
        "    assert(parameters[f\"b{l}\"].shape == (dim_layers[l],1))\n",
        "\n"
      ],
      "execution_count": 0,
      "outputs": []
    },
    {
      "cell_type": "code",
      "metadata": {
        "id": "aBTyjd4hj3XZ",
        "colab_type": "code",
        "colab": {}
      },
      "source": [
        "parameters = initialisation_deep([2,3,4,5,1])"
      ],
      "execution_count": 0,
      "outputs": []
    },
    {
      "cell_type": "code",
      "metadata": {
        "id": "tzEv__9U0Riv",
        "colab_type": "code",
        "colab": {
          "base_uri": "https://localhost:8080/",
          "height": 459
        },
        "outputId": "1fb35314-624e-46b8-934c-eac6a79d0ccf"
      },
      "source": [
        "parameters"
      ],
      "execution_count": 82,
      "outputs": [
        {
          "output_type": "execute_result",
          "data": {
            "text/plain": [
              "{'W1': array([[ 0.01788628,  0.0043651 ],\n",
              "        [ 0.00096497, -0.01863493],\n",
              "        [-0.00277388, -0.00354759]]),\n",
              " 'W2': array([[-0.00082741, -0.00627001, -0.00043818],\n",
              "        [-0.00477218, -0.01313865,  0.00884622],\n",
              "        [ 0.00881318,  0.01709573,  0.00050034],\n",
              "        [-0.00404677, -0.0054536 , -0.01546477]]),\n",
              " 'W3': array([[ 0.00982367, -0.01101068, -0.01185047, -0.0020565 ],\n",
              "        [ 0.01486148,  0.00236716, -0.01023785, -0.00712993],\n",
              "        [ 0.00625245, -0.00160513, -0.00768836, -0.00230031],\n",
              "        [ 0.00745056,  0.01976111, -0.01244123, -0.00626417],\n",
              "        [-0.00803766, -0.02419083, -0.00923792, -0.01023876]]),\n",
              " 'W4': array([[ 0.01123978, -0.00131914, -0.01623285,  0.00646675, -0.00356271]]),\n",
              " 'b1': array([[0.],\n",
              "        [0.],\n",
              "        [0.]]),\n",
              " 'b2': array([[0.],\n",
              "        [0.],\n",
              "        [0.],\n",
              "        [0.]]),\n",
              " 'b3': array([[0.],\n",
              "        [0.],\n",
              "        [0.],\n",
              "        [0.],\n",
              "        [0.]]),\n",
              " 'b4': array([[0.]])}"
            ]
          },
          "metadata": {
            "tags": []
          },
          "execution_count": 82
        }
      ]
    },
    {
      "cell_type": "code",
      "metadata": {
        "id": "w11gsHUA1k5g",
        "colab_type": "code",
        "colab": {}
      },
      "source": [
        "# forward propagate\n",
        "\n",
        "\"\"\"\"def forward_propagate(parameters) :\n",
        "  \n",
        "  cache={}\n",
        "  L=(dim_l_layers)\n",
        "  \n",
        "  for l in range (1,L):\n",
        "    \n",
        "    cache [f\"Z{l}\"] = parameters[f'W{l}'] \"\"\"\n",
        "\n",
        "#implémentation d'une forward simple \n",
        "#A ce sont les activations des couches précedentes \n",
        "#W les poids de chaque couches\n",
        "#b les biais pour chaque couche\n",
        "\n",
        "  \n",
        "def forward_simple(A,W,b):\n",
        "  \n",
        "  Z = np.dot(W.T,A)+b\n",
        "  \n",
        "  return Z\n",
        "\n",
        "  assert (Z.shape == "
      ],
      "execution_count": 0,
      "outputs": []
    }
  ]
}