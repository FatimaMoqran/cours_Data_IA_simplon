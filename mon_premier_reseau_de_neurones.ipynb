{
  "nbformat": 4,
  "nbformat_minor": 0,
  "metadata": {
    "colab": {
      "name": "mon_premier_reseau_de_neurones.ipynb",
      "version": "0.3.2",
      "provenance": [],
      "collapsed_sections": [],
      "include_colab_link": true
    },
    "kernelspec": {
      "name": "python3",
      "display_name": "Python 3"
    }
  },
  "cells": [
    {
      "cell_type": "markdown",
      "metadata": {
        "id": "view-in-github",
        "colab_type": "text"
      },
      "source": [
        "<a href=\"https://colab.research.google.com/github/FatimaMoqran/cours_Data_IA_simplon/blob/master/mon_premier_reseau_de_neurones.ipynb\" target=\"_parent\"><img src=\"https://colab.research.google.com/assets/colab-badge.svg\" alt=\"Open In Colab\"/></a>"
      ]
    },
    {
      "cell_type": "code",
      "metadata": {
        "id": "bz3XCq4uBP-0",
        "colab_type": "code",
        "colab": {}
      },
      "source": [
        "import numpy as np\n"
      ],
      "execution_count": 0,
      "outputs": []
    },
    {
      "cell_type": "code",
      "metadata": {
        "id": "hLITfzxJBWoH",
        "colab_type": "code",
        "outputId": "ef5bda41-a522-4289-fa3f-a0bdfb4e4289",
        "colab": {
          "base_uri": "https://localhost:8080/",
          "height": 1000
        }
      },
      "source": [
        "#les données Xor trouvées de manière aléatoire\n",
        "X = np.random.randint(2,size = (2,400))\n",
        "print(X)\n",
        "Y = np.logical_xor(X[0,:],X[1,:])\n",
        "print(Y)\n",
        "X.shape, Y.shape"
      ],
      "execution_count": 2,
      "outputs": [
        {
          "output_type": "stream",
          "text": [
            "[[0 1 0 1 1 1 1 1 1 0 1 0 1 0 1 0 1 1 1 0 1 0 0 1 1 0 1 0 1 1 1 1 1 0 1 0\n",
            "  0 0 1 1 0 0 0 0 0 0 1 1 0 0 0 1 1 0 1 1 0 0 1 0 1 1 1 1 0 0 0 1 1 0 1 1\n",
            "  0 0 1 1 0 0 0 0 0 0 0 0 0 1 1 0 0 1 1 1 1 0 1 0 0 0 0 1 1 1 0 1 1 1 0 1\n",
            "  1 1 1 0 1 0 1 1 0 1 0 0 1 0 0 0 0 1 0 0 1 0 0 0 0 0 1 1 0 0 1 1 1 0 1 1\n",
            "  0 1 0 1 0 1 0 0 0 0 0 0 0 1 1 1 1 1 0 1 0 0 0 1 0 1 0 0 1 1 1 1 0 1 0 1\n",
            "  0 1 1 0 0 0 1 1 0 0 1 0 1 1 0 0 1 1 0 1 1 1 0 1 0 0 1 1 0 0 1 1 1 0 1 0\n",
            "  1 1 1 0 1 0 1 1 0 1 0 0 0 1 1 0 1 0 0 1 1 1 1 0 0 0 0 0 1 1 0 1 1 0 0 0\n",
            "  1 0 1 0 1 1 0 0 1 0 1 0 0 1 0 1 1 0 1 0 0 1 1 0 1 0 1 0 1 1 1 1 0 1 0 1\n",
            "  1 1 0 0 0 1 1 1 0 1 1 0 1 0 1 1 1 1 1 0 0 1 0 1 1 1 0 1 1 1 1 0 1 1 0 1\n",
            "  1 1 1 1 0 0 1 1 1 1 1 0 1 0 1 0 1 1 1 1 1 0 1 1 0 1 0 1 0 0 1 1 1 0 1 1\n",
            "  1 1 1 1 0 1 1 0 1 1 0 1 1 1 1 1 1 0 0 1 0 1 0 0 1 1 1 0 1 1 0 0 1 0 0 0\n",
            "  0 0 1 1]\n",
            " [1 1 1 0 1 1 1 1 0 1 1 0 1 0 1 0 1 1 0 1 1 0 0 1 1 0 0 1 0 0 1 0 0 0 0 1\n",
            "  0 0 1 0 0 0 1 0 0 1 0 0 0 1 0 1 1 0 0 0 0 1 0 1 1 0 0 0 0 1 0 0 0 0 0 0\n",
            "  0 0 0 0 1 0 1 1 0 0 0 1 1 0 0 1 0 0 0 1 0 0 1 1 0 0 1 0 0 1 1 1 1 1 0 1\n",
            "  0 0 0 1 0 0 1 0 1 1 0 0 0 1 0 1 0 0 1 0 0 1 1 1 0 0 1 0 1 0 1 0 0 0 1 0\n",
            "  0 1 1 0 1 0 0 0 0 0 0 0 1 0 0 0 0 0 0 1 1 0 0 1 0 0 1 1 1 0 0 0 1 1 0 1\n",
            "  1 1 1 1 0 1 1 1 0 1 1 0 1 1 1 0 0 1 0 0 0 0 0 1 1 0 0 0 0 0 1 0 0 1 1 0\n",
            "  1 0 0 0 0 1 1 1 1 0 0 0 0 0 0 0 0 1 0 1 1 0 1 0 1 1 0 1 0 0 1 0 1 0 0 0\n",
            "  0 1 0 0 0 1 1 1 0 1 1 1 1 0 0 0 0 0 1 1 0 0 0 1 0 0 1 1 0 1 0 0 1 0 1 1\n",
            "  1 1 0 1 0 0 0 0 0 1 0 1 1 1 1 1 0 1 0 0 0 1 1 0 0 1 0 0 1 1 0 1 1 1 1 0\n",
            "  0 0 0 1 0 1 0 0 0 0 1 1 0 1 0 0 1 1 1 0 0 1 0 0 1 1 1 1 1 0 0 0 1 1 0 0\n",
            "  1 0 0 1 0 0 0 0 0 1 1 1 0 1 0 1 1 0 1 1 0 0 1 0 0 1 1 1 1 0 0 1 0 1 1 1\n",
            "  1 1 1 1]]\n",
            "[ True False  True  True False False False False  True  True False False\n",
            " False False False False False False  True  True False False False False\n",
            " False False  True  True  True  True False  True  True False  True  True\n",
            " False False False  True False False  True False False  True  True  True\n",
            " False  True False False False False  True  True False  True  True  True\n",
            " False  True  True  True False  True False  True  True False  True  True\n",
            " False False  True  True  True False  True  True False False False  True\n",
            "  True  True  True  True False  True  True False  True False False  True\n",
            " False False  True  True  True False  True False False False False False\n",
            "  True  True  True  True  True False False  True  True False False False\n",
            "  True  True False  True False  True  True False  True  True  True  True\n",
            " False False False  True  True False False  True  True False False  True\n",
            " False False  True  True  True  True False False False False False False\n",
            "  True  True  True  True  True  True False False  True False False False\n",
            " False  True  True  True False  True  True  True  True False False False\n",
            "  True False False  True False  True False False False  True False False\n",
            " False False  True False  True False False  True  True  True False False\n",
            "  True False  True  True False False False  True  True  True False False\n",
            " False  True  True False  True  True False False  True  True False False\n",
            " False  True  True False  True  True False False False  True False False\n",
            "  True  True False  True  True  True  True  True False False False False\n",
            "  True  True  True False  True False  True  True  True  True False  True\n",
            "  True  True False  True  True False False  True False  True  True  True\n",
            "  True False False  True  True False  True  True  True  True  True False\n",
            " False False False  True False  True  True  True False False  True  True\n",
            " False  True False False  True False  True False False False  True  True\n",
            "  True False False  True False False  True  True False False  True  True\n",
            "  True  True  True False False  True  True  True  True  True False  True\n",
            "  True  True  True False False False False  True  True  True  True  True\n",
            "  True False  True False  True False  True  True False  True  True  True\n",
            " False  True  True False False  True  True False  True False  True False\n",
            "  True False  True False False False  True False False  True  True False\n",
            "  True False False  True False  True False  True  True  True  True  True\n",
            "  True  True False False]\n"
          ],
          "name": "stdout"
        },
        {
          "output_type": "execute_result",
          "data": {
            "text/plain": [
              "((2, 400), (400,))"
            ]
          },
          "metadata": {
            "tags": []
          },
          "execution_count": 2
        }
      ]
    },
    {
      "cell_type": "code",
      "metadata": {
        "id": "s02PilltDQns",
        "colab_type": "code",
        "outputId": "6586e43f-3778-4502-fa7a-7ae65a4b5f16",
        "colab": {
          "base_uri": "https://localhost:8080/",
          "height": 34
        }
      },
      "source": [
        "#j'ai 2 lignes et 400 colonnes\n",
        "X.shape"
      ],
      "execution_count": 3,
      "outputs": [
        {
          "output_type": "execute_result",
          "data": {
            "text/plain": [
              "(2, 400)"
            ]
          },
          "metadata": {
            "tags": []
          },
          "execution_count": 3
        }
      ]
    },
    {
      "cell_type": "code",
      "metadata": {
        "id": "M0LqMWpTAsb1",
        "colab_type": "code",
        "outputId": "1e49e31b-bf6c-4dce-8494-6d0372b676a4",
        "colab": {
          "base_uri": "https://localhost:8080/",
          "height": 34
        }
      },
      "source": [
        "Y.shape"
      ],
      "execution_count": 4,
      "outputs": [
        {
          "output_type": "execute_result",
          "data": {
            "text/plain": [
              "(400,)"
            ]
          },
          "metadata": {
            "tags": []
          },
          "execution_count": 4
        }
      ]
    },
    {
      "cell_type": "code",
      "metadata": {
        "id": "EFv8BUVrBLxV",
        "colab_type": "code",
        "outputId": "a04a9147-ef66-4ab6-ab89-22d80e60a3b7",
        "colab": {
          "base_uri": "https://localhost:8080/",
          "height": 34
        }
      },
      "source": [
        "#j'ai une ligne 400 colonnes\n",
        "Y= Y.reshape(1,400)\n",
        "Y.shape"
      ],
      "execution_count": 5,
      "outputs": [
        {
          "output_type": "execute_result",
          "data": {
            "text/plain": [
              "(1, 400)"
            ]
          },
          "metadata": {
            "tags": []
          },
          "execution_count": 5
        }
      ]
    },
    {
      "cell_type": "code",
      "metadata": {
        "id": "CHQs-O8mpy6L",
        "colab_type": "code",
        "colab": {}
      },
      "source": [
        "m= X.shape[1]"
      ],
      "execution_count": 0,
      "outputs": []
    },
    {
      "cell_type": "code",
      "metadata": {
        "id": "T7-E4QuMDbVk",
        "colab_type": "code",
        "colab": {}
      },
      "source": [
        "# definir la Sigmoid:\n",
        "def sigmoid(z):\n",
        "  s= 1/(1+np.exp(-z))\n",
        "  return s"
      ],
      "execution_count": 0,
      "outputs": []
    },
    {
      "cell_type": "code",
      "metadata": {
        "id": "Nr-JHlZZ6qd6",
        "colab_type": "code",
        "outputId": "881e915b-0140-47d0-db45-42aeaad5082b",
        "colab": {
          "base_uri": "https://localhost:8080/",
          "height": 34
        }
      },
      "source": [
        "#test\n",
        "sigmoid(2)"
      ],
      "execution_count": 8,
      "outputs": [
        {
          "output_type": "execute_result",
          "data": {
            "text/plain": [
              "0.8807970779778823"
            ]
          },
          "metadata": {
            "tags": []
          },
          "execution_count": 8
        }
      ]
    },
    {
      "cell_type": "code",
      "metadata": {
        "id": "XgSiiTkD7mtq",
        "colab_type": "code",
        "outputId": "cfa2c68b-848e-420a-9ac0-a509ef84a69f",
        "colab": {
          "base_uri": "https://localhost:8080/",
          "height": 34
        }
      },
      "source": [
        "#test sigmoid d'un array\n",
        "sigmoid_array= sigmoid(np.array([0,2]))\n",
        "sigmoid_array"
      ],
      "execution_count": 9,
      "outputs": [
        {
          "output_type": "execute_result",
          "data": {
            "text/plain": [
              "array([0.5       , 0.88079708])"
            ]
          },
          "metadata": {
            "tags": []
          },
          "execution_count": 9
        }
      ]
    },
    {
      "cell_type": "code",
      "metadata": {
        "id": "vAfp-MJ7_KQ-",
        "colab_type": "code",
        "colab": {}
      },
      "source": [
        "#définir la structure du neural network:\n",
        "def layer_size(X,Y):\n",
        "  \n",
        "    \"\"\" X -- input dataset of shape (input size, number of examples)\n",
        "    Y -- labels of shape (output size, number of examples)\n",
        "  \n",
        "    Returns:\n",
        "    n_x -- the size of the input layer\n",
        "    n_h -- the size of the hidden layer\n",
        "    n_y -- the size of the output layer\"\"\"\n",
        "\n",
        "    n_x = X.shape[0] #taille du input layer\n",
        "    n_y = Y.shape[0]#taille du output layer\n",
        "    n_h = 4  #je defini le nombre de noeud dans ma hidden layer\n",
        "  \n",
        "    return (n_x, n_y, n_h)\n",
        "\n",
        "\n"
      ],
      "execution_count": 0,
      "outputs": []
    },
    {
      "cell_type": "code",
      "metadata": {
        "id": "8R4vcdCAO6hP",
        "colab_type": "code",
        "colab": {}
      },
      "source": [
        "(n_x,n_y,n_h)= layer_size(X,Y)\n"
      ],
      "execution_count": 0,
      "outputs": []
    },
    {
      "cell_type": "code",
      "metadata": {
        "id": "1d3iMA7I8UUt",
        "colab_type": "code",
        "colab": {}
      },
      "source": [
        "#initialisation des paramètres:\n",
        "def initialisation_parameters(n_x,n_h,n_y):\n",
        "    \"\"\"Argument:\n",
        "        n_x -- size of the input layer\n",
        "        n_h -- size of the hidden layer\n",
        "        n_y -- size of the output layer\n",
        "\n",
        "        Returns:\n",
        "        params -- python dictionary containing your parameters:\n",
        "                        W1 -- weight matrix of shape (n_h, n_x)\n",
        "                        b1 -- bias vector of shape (n_h, 1)\n",
        "                        W2 -- weight matrix of shape (n_y, n_h)\n",
        "                        b2 -- bias vector of shape (n_y, 1)\n",
        "     \n",
        "     \n",
        "     \"\"\"\n",
        "    #initialisation pseudo aléatoire (il faut que les random soient fixés )\n",
        "    np.random.seed(2)\n",
        "    \n",
        "    \n",
        "    #initialisation W1,W2 de manière aléatoire\n",
        "    #initialisation b1,b2 avec des zeros (il faut les mettre dans un tuple)\n",
        "\n",
        "    W1 = np.random.randn(n_h,n_x) * 0.01\n",
        "    b1 = np.zeros((n_h,1))\n",
        "    W2 = np.random.randn(n_y,n_h) * 0.01\n",
        "    b2 = np.zeros((n_y,1))\n",
        "\n",
        "    #tests pour être sur d'avoir les bonnes shapes de matrices\n",
        "\n",
        "   \n",
        "    assert (W1.shape == (n_h , n_x))\n",
        "    assert (b1.shape == (n_h , 1))\n",
        "    assert (W2.shape == (n_y , n_h))\n",
        "    assert (b2.shape == (n_y , 1))\n",
        "    \n",
        "   \n",
        "    \n",
        "    # je stock dans un dictionnaire \"parameters\"\n",
        "\n",
        "    parameters = {\"W1\":W1,\n",
        "                 \"b1\": b1,\n",
        "                 \"W2\": W2,\n",
        "                 \"b2\": b2}\n",
        "    \n",
        "    return parameters\n",
        "\n"
      ],
      "execution_count": 0,
      "outputs": []
    },
    {
      "cell_type": "code",
      "metadata": {
        "id": "eXLhuk8aRDQ3",
        "colab_type": "code",
        "colab": {}
      },
      "source": [
        "parameters = initialisation_parameters(n_x,n_h,n_y)"
      ],
      "execution_count": 0,
      "outputs": []
    },
    {
      "cell_type": "code",
      "metadata": {
        "id": "Ge-4iyTmZHok",
        "colab_type": "code",
        "colab": {}
      },
      "source": [
        "#forward propagation\n",
        "def forward_propagate(X,parameters):\n",
        "  \n",
        "#je récupère mes données de mes dictionnaires\n",
        "\n",
        "    W1 = parameters[\"W1\"]\n",
        "    b1 = parameters[\"b1\"]\n",
        "    W2 = parameters[\"W2\"]\n",
        "    b2 = parameters[\"b2\"]\n",
        "\n",
        "    # calcule ma forward propagation: Z1 couche 1, A1 activation couche 1, Z2 couche 2, A2(juste avec des sigmoid)\n",
        "\n",
        "    Z1 = np.dot(W1,X)+b1\n",
        "    A1 = sigmoid(Z1)\n",
        "    Z2 = np.dot(W2,A1)+b2\n",
        "    A2 = sigmoid(Z2)\n",
        "    \n",
        "    #teste que ma matrice A2 a les bonnes dimensions\n",
        "    \n",
        "    assert (A2.shape == (1,X.shape[1]))\n",
        "    \n",
        "    #création d'un cache qui stock \"Z1 A1 Z2 A2\" dans un dictionnaire à utliser dans la backward\n",
        "    \n",
        "    cache = { \"Z1\": Z1,\n",
        "             \"A1\" : A1,\n",
        "             \"Z2\" : Z2,\n",
        "             \"A2\" : A2 }\n",
        "    \n",
        "    return A1,A2, cache\n",
        "    \n",
        "    "
      ],
      "execution_count": 0,
      "outputs": []
    },
    {
      "cell_type": "code",
      "metadata": {
        "id": "2HxiQ0uo94go",
        "colab_type": "code",
        "colab": {}
      },
      "source": [
        "#test la forward propagation avec les data\n",
        "#toujours stocker sa fonction dans une variable qui a le même nom que le return\n",
        "A1, A2, cache = forward_propagate(X,parameters)\n",
        "\n"
      ],
      "execution_count": 0,
      "outputs": []
    },
    {
      "cell_type": "code",
      "metadata": {
        "id": "bI5zUyEzPFCP",
        "colab_type": "code",
        "colab": {}
      },
      "source": [
        "#calcul de la cost function \n",
        "\n",
        "def compute_cost (Y,A2):\n",
        "  \n",
        "    logprobs = - (Y * np.log(A2) + (1-Y) * np.log (1-A2))\n",
        "    cost = np.sum(logprobs)/X.shape[1]\n",
        "  \n",
        "    #on veut que la cost ne soit pas dans un array mais un chiffre \n",
        "    cost = np.squeeze(cost)\n",
        "                                                     \n",
        "    #être sûr d'avoir la cost au bon format\n",
        "    assert(isinstance(cost,float)) \n",
        "    \n",
        "    return cost\n",
        "    \n",
        "  "
      ],
      "execution_count": 0,
      "outputs": []
    },
    {
      "cell_type": "markdown",
      "metadata": {
        "id": "Sucerj_QO6GB",
        "colab_type": "text"
      },
      "source": [
        ""
      ]
    },
    {
      "cell_type": "code",
      "metadata": {
        "id": "zJoiuciiar-b",
        "colab_type": "code",
        "outputId": "f687e752-1333-4d9e-ff6a-a9a74085e87a",
        "colab": {
          "base_uri": "https://localhost:8080/",
          "height": 34
        }
      },
      "source": [
        "#on retourne la cost\n",
        "cost = compute_cost (Y,A2)\n",
        "print(cost)"
      ],
      "execution_count": 17,
      "outputs": [
        {
          "output_type": "stream",
          "text": [
            "0.6930143238498172\n"
          ],
          "name": "stdout"
        }
      ]
    },
    {
      "cell_type": "code",
      "metadata": {
        "id": "7_0hftyqav-z",
        "colab_type": "code",
        "colab": {}
      },
      "source": [
        "# backward propagation\n",
        "\n",
        "def backward_propagate(parameters,cache,X,Y):\n",
        "  \n",
        "  \"\"\"#les arguments: \n",
        "  #parameters : dictionnaire qui contient mes parameters\n",
        "  #cache : dictionnaire qui contient mes Z et mes A\n",
        "  #X : matrice de mes imputs (2,nbre d'exemples)\n",
        "  #Y : mon vecteur de labels (1,nbre d'exemples)\n",
        "  #return : les gradients\"\"\"\n",
        "  \n",
        "  \n",
        "  # recupération des paramètres:\n",
        "  W1 = parameters[\"W1\"]\n",
        "  b1 = parameters[\"b1\"]\n",
        "  W2 = parameters[\"W2\"]\n",
        "  b2 = parameters[\"b2\"]\n",
        "    \n",
        " #recupération des activations du dictionnaire \"cache\":\n",
        "  \n",
        "  A1 = cache[\"A1\"]\n",
        "  A2 = cache[\"A2\"]\n",
        "\n",
        " #calcul la backward avec les formules des dérivées:\n",
        "\n",
        "  dZ2 = A2 - Y\n",
        "  dW2 = (1/m) * (np.dot(dZ2,A1.T))\n",
        "  db2 = (1/m) * (np.sum(dZ2, axis = 1, keepdims = True ))\n",
        "  dZ1 = np.dot(W2.T,dZ2) * (A1*(1-A1)) #car la dérivée de la sigmoid = sigmoid(Z1) * (1-sigmoid(Z1)) et sigmoid(Z1)= A1\n",
        "  dW1 = (1/m) *  (np.dot(dZ1,X.T))\n",
        "  db1 = (1/m) *  (np.sum(dZ1, axis = 1, keepdims = True))\n",
        "\n",
        "    #on met tous ça dans un dictionnaire gards\n",
        "  \n",
        "\n",
        "  grads = {\"dZ2\": dZ2, \n",
        "           \"dW2\": dW2,\n",
        "           \"db2\": db2,\n",
        "           \"dZ1\": dZ1,\n",
        "           \"dW1\": dW1,\n",
        "           \"db1\": db1}\n",
        "    \n",
        "  return grads\n",
        "\n",
        "    \n",
        "    \n"
      ],
      "execution_count": 0,
      "outputs": []
    },
    {
      "cell_type": "code",
      "metadata": {
        "id": "GESZ7Q-3AnJU",
        "colab_type": "code",
        "outputId": "be2a04f5-a302-4c0a-e369-4d007d128260",
        "colab": {
          "base_uri": "https://localhost:8080/",
          "height": 1000
        }
      },
      "source": [
        "grads = backward_propagate(parameters,cache,X,Y)\n",
        "grads"
      ],
      "execution_count": 19,
      "outputs": [
        {
          "output_type": "execute_result",
          "data": {
            "text/plain": [
              "{'dW1': array([[ 1.04196307e-04, -2.77259511e-05],\n",
              "        [ 8.94879108e-05, -2.38387605e-05],\n",
              "        [-5.43227675e-05,  1.44273952e-05],\n",
              "        [-2.25760258e-04,  6.00905820e-05]]),\n",
              " 'dW2': array([[-0.01441479, -0.01420101, -0.01429977, -0.01453653]]),\n",
              " 'dZ1': array([[ 0.00131962, -0.00132529,  0.00131962, ...,  0.00131962,\n",
              "         -0.00132529, -0.00132529],\n",
              "        [ 0.00113376, -0.00113871,  0.00113376, ...,  0.00113376,\n",
              "         -0.00113871, -0.00113871],\n",
              "        [-0.00068784,  0.00069069, -0.00068784, ..., -0.00068784,\n",
              "          0.00069069,  0.00069069],\n",
              "        [-0.00285904,  0.00287142, -0.00285904, ..., -0.00285904,\n",
              "          0.00287142,  0.00287142]]),\n",
              " 'dZ2': array([[-0.49893381,  0.5010821 , -0.49893381, -0.49888821,  0.5010821 ,\n",
              "          0.5010821 ,  0.5010821 ,  0.5010821 , -0.49888821, -0.49893381,\n",
              "          0.5010821 ,  0.50109588,  0.5010821 ,  0.50109588,  0.5010821 ,\n",
              "          0.50109588,  0.5010821 ,  0.5010821 , -0.49888821, -0.49893381,\n",
              "          0.5010821 ,  0.50109588,  0.50109588,  0.5010821 ,  0.5010821 ,\n",
              "          0.50109588, -0.49888821, -0.49893381, -0.49888821, -0.49888821,\n",
              "          0.5010821 , -0.49888821, -0.49888821,  0.50109588, -0.49888821,\n",
              "         -0.49893381,  0.50109588,  0.50109588,  0.5010821 , -0.49888821,\n",
              "          0.50109588,  0.50109588, -0.49893381,  0.50109588,  0.50109588,\n",
              "         -0.49893381, -0.49888821, -0.49888821,  0.50109588, -0.49893381,\n",
              "          0.50109588,  0.5010821 ,  0.5010821 ,  0.50109588, -0.49888821,\n",
              "         -0.49888821,  0.50109588, -0.49893381, -0.49888821, -0.49893381,\n",
              "          0.5010821 , -0.49888821, -0.49888821, -0.49888821,  0.50109588,\n",
              "         -0.49893381,  0.50109588, -0.49888821, -0.49888821,  0.50109588,\n",
              "         -0.49888821, -0.49888821,  0.50109588,  0.50109588, -0.49888821,\n",
              "         -0.49888821, -0.49893381,  0.50109588, -0.49893381, -0.49893381,\n",
              "          0.50109588,  0.50109588,  0.50109588, -0.49893381, -0.49893381,\n",
              "         -0.49888821, -0.49888821, -0.49893381,  0.50109588, -0.49888821,\n",
              "         -0.49888821,  0.5010821 , -0.49888821,  0.50109588,  0.5010821 ,\n",
              "         -0.49893381,  0.50109588,  0.50109588, -0.49893381, -0.49888821,\n",
              "         -0.49888821,  0.5010821 , -0.49893381,  0.5010821 ,  0.5010821 ,\n",
              "          0.5010821 ,  0.50109588,  0.5010821 , -0.49888821, -0.49888821,\n",
              "         -0.49888821, -0.49893381, -0.49888821,  0.50109588,  0.5010821 ,\n",
              "         -0.49888821, -0.49893381,  0.5010821 ,  0.50109588,  0.50109588,\n",
              "         -0.49888821, -0.49893381,  0.50109588, -0.49893381,  0.50109588,\n",
              "         -0.49888821, -0.49893381,  0.50109588, -0.49888821, -0.49893381,\n",
              "         -0.49893381, -0.49893381,  0.50109588,  0.50109588,  0.5010821 ,\n",
              "         -0.49888821, -0.49893381,  0.50109588,  0.5010821 , -0.49888821,\n",
              "         -0.49888821,  0.50109588,  0.5010821 , -0.49888821,  0.50109588,\n",
              "          0.5010821 , -0.49893381, -0.49888821, -0.49893381, -0.49888821,\n",
              "          0.50109588,  0.50109588,  0.50109588,  0.50109588,  0.50109588,\n",
              "          0.50109588, -0.49893381, -0.49888821, -0.49888821, -0.49888821,\n",
              "         -0.49888821, -0.49888821,  0.50109588,  0.5010821 , -0.49893381,\n",
              "          0.50109588,  0.50109588,  0.5010821 ,  0.50109588, -0.49888821,\n",
              "         -0.49893381, -0.49893381,  0.5010821 , -0.49888821, -0.49888821,\n",
              "         -0.49888821, -0.49893381,  0.5010821 ,  0.50109588,  0.5010821 ,\n",
              "         -0.49893381,  0.5010821 ,  0.5010821 , -0.49893381,  0.50109588,\n",
              "         -0.49893381,  0.5010821 ,  0.5010821 ,  0.50109588, -0.49893381,\n",
              "          0.5010821 ,  0.50109588,  0.5010821 ,  0.5010821 , -0.49893381,\n",
              "          0.50109588, -0.49888821,  0.5010821 ,  0.50109588, -0.49888821,\n",
              "         -0.49888821, -0.49888821,  0.50109588,  0.5010821 , -0.49893381,\n",
              "          0.50109588, -0.49888821, -0.49888821,  0.50109588,  0.50109588,\n",
              "          0.5010821 , -0.49888821, -0.49888821, -0.49893381,  0.5010821 ,\n",
              "          0.50109588,  0.5010821 , -0.49888821, -0.49888821,  0.50109588,\n",
              "         -0.49888821, -0.49893381,  0.5010821 ,  0.5010821 , -0.49893381,\n",
              "         -0.49888821,  0.50109588,  0.50109588,  0.50109588, -0.49888821,\n",
              "         -0.49888821,  0.50109588, -0.49888821, -0.49893381,  0.50109588,\n",
              "          0.5010821 ,  0.5010821 , -0.49888821,  0.5010821 ,  0.50109588,\n",
              "         -0.49893381, -0.49893381,  0.50109588, -0.49893381, -0.49888821,\n",
              "         -0.49888821, -0.49893381, -0.49888821,  0.5010821 ,  0.50109588,\n",
              "          0.50109588,  0.50109588, -0.49888821, -0.49893381, -0.49888821,\n",
              "          0.50109588, -0.49888821,  0.5010821 , -0.49893381, -0.49893381,\n",
              "         -0.49888821, -0.49893381,  0.5010821 , -0.49893381, -0.49893381,\n",
              "         -0.49888821,  0.50109588, -0.49888821, -0.49888821,  0.50109588,\n",
              "          0.5010821 , -0.49893381,  0.50109588, -0.49888821, -0.49888821,\n",
              "         -0.49893381, -0.49888821,  0.50109588,  0.5010821 , -0.49893381,\n",
              "         -0.49888821,  0.5010821 , -0.49888821, -0.49888821, -0.49893381,\n",
              "         -0.49888821, -0.49893381,  0.5010821 ,  0.5010821 ,  0.5010821 ,\n",
              "          0.50109588, -0.49893381,  0.50109588, -0.49888821, -0.49888821,\n",
              "         -0.49888821,  0.50109588,  0.5010821 , -0.49888821, -0.49893381,\n",
              "          0.5010821 , -0.49893381,  0.5010821 ,  0.5010821 , -0.49888821,\n",
              "          0.5010821 , -0.49888821,  0.50109588,  0.50109588,  0.5010821 ,\n",
              "         -0.49893381, -0.49888821, -0.49888821,  0.5010821 ,  0.50109588,\n",
              "         -0.49888821,  0.5010821 ,  0.5010821 , -0.49888821, -0.49893381,\n",
              "          0.5010821 ,  0.5010821 , -0.49893381, -0.49888821, -0.49888821,\n",
              "         -0.49888821, -0.49888821,  0.5010821 ,  0.50109588, -0.49893381,\n",
              "         -0.49888821, -0.49888821, -0.49888821, -0.49888821,  0.5010821 ,\n",
              "         -0.49893381, -0.49888821, -0.49893381, -0.49888821,  0.50109588,\n",
              "          0.5010821 ,  0.5010821 ,  0.5010821 , -0.49888821, -0.49888821,\n",
              "         -0.49893381, -0.49888821, -0.49888821, -0.49893381,  0.5010821 ,\n",
              "         -0.49893381,  0.5010821 , -0.49893381,  0.50109588, -0.49888821,\n",
              "         -0.49888821,  0.5010821 , -0.49893381, -0.49888821, -0.49888821,\n",
              "          0.5010821 , -0.49888821, -0.49888821,  0.5010821 ,  0.50109588,\n",
              "         -0.49888821, -0.49888821,  0.50109588, -0.49888821,  0.5010821 ,\n",
              "         -0.49893381,  0.5010821 , -0.49888821,  0.5010821 , -0.49888821,\n",
              "          0.5010821 ,  0.5010821 ,  0.50109588, -0.49893381,  0.5010821 ,\n",
              "          0.50109588, -0.49888821, -0.49893381,  0.50109588, -0.49888821,\n",
              "          0.5010821 ,  0.5010821 , -0.49893381,  0.5010821 , -0.49888821,\n",
              "          0.50109588, -0.49893381, -0.49888821, -0.49893381, -0.49893381,\n",
              "         -0.49893381, -0.49893381, -0.49893381,  0.5010821 ,  0.5010821 ]]),\n",
              " 'db1': array([[ 7.64600530e-05],\n",
              "        [ 6.56401499e-05],\n",
              "        [-3.98627305e-05],\n",
              "        [-1.65641831e-04]]),\n",
              " 'db2': array([[-0.02890873]])}"
            ]
          },
          "metadata": {
            "tags": []
          },
          "execution_count": 19
        }
      ]
    },
    {
      "cell_type": "code",
      "metadata": {
        "id": "fviiuUZDqmqs",
        "colab_type": "code",
        "colab": {}
      },
      "source": [
        "def update_parameters(parameters,grads,learning_rate=1.5):\n",
        "  \n",
        "  #je recupère les paramètres que l'on doit updater\n",
        "  \n",
        "  W1 = parameters[\"W1\"]\n",
        "  b1 = parameters[\"b1\"]\n",
        "  W2 = parameters[\"W2\"]\n",
        "  b2 = parameters[\"b2\"]\n",
        "  \n",
        "  #je récupère les gradients que j'utilise pour update\n",
        "  \n",
        "  dZ2 = grads[\"dZ2\"]\n",
        "  dW2 = grads[\"dW2\"]\n",
        "  db2 = grads[\"db2\"]\n",
        "  dZ1 = grads[\"dZ1\"]\n",
        "  dW1 = grads[\"dW1\"]\n",
        "  db1 = grads[\"db1\"]\n",
        " \n",
        "  #formule pour updater les learning rates\n",
        "  \n",
        "  W1 = W1 - (learning_rate * dW1)\n",
        "  W2 = W2 - (learning_rate * dW2)\n",
        "  b1 = b1 - (learning_rate * db1)\n",
        "  b2 = b2 - (learning_rate * db2)\n",
        "  \n",
        "  parameters = {\"W1\": W1,\n",
        "                \"W2\" : W2,\n",
        "                \"b1\":  b1,\n",
        "                \"b2\" : b2}\n",
        "  \n",
        "  return parameters"
      ],
      "execution_count": 0,
      "outputs": []
    },
    {
      "cell_type": "code",
      "metadata": {
        "id": "HOir2zefz9CA",
        "colab_type": "code",
        "outputId": "0b0da70e-6854-4a14-fb27-f95b940a455f",
        "colab": {
          "base_uri": "https://localhost:8080/",
          "height": 1000
        }
      },
      "source": [
        "parameters =  update_parameters(parameters,grads,learning_rate=1.5)\n",
        "grads"
      ],
      "execution_count": 21,
      "outputs": [
        {
          "output_type": "execute_result",
          "data": {
            "text/plain": [
              "{'dW1': array([[ 1.04196307e-04, -2.77259511e-05],\n",
              "        [ 8.94879108e-05, -2.38387605e-05],\n",
              "        [-5.43227675e-05,  1.44273952e-05],\n",
              "        [-2.25760258e-04,  6.00905820e-05]]),\n",
              " 'dW2': array([[-0.01441479, -0.01420101, -0.01429977, -0.01453653]]),\n",
              " 'dZ1': array([[ 0.00131962, -0.00132529,  0.00131962, ...,  0.00131962,\n",
              "         -0.00132529, -0.00132529],\n",
              "        [ 0.00113376, -0.00113871,  0.00113376, ...,  0.00113376,\n",
              "         -0.00113871, -0.00113871],\n",
              "        [-0.00068784,  0.00069069, -0.00068784, ..., -0.00068784,\n",
              "          0.00069069,  0.00069069],\n",
              "        [-0.00285904,  0.00287142, -0.00285904, ..., -0.00285904,\n",
              "          0.00287142,  0.00287142]]),\n",
              " 'dZ2': array([[-0.49893381,  0.5010821 , -0.49893381, -0.49888821,  0.5010821 ,\n",
              "          0.5010821 ,  0.5010821 ,  0.5010821 , -0.49888821, -0.49893381,\n",
              "          0.5010821 ,  0.50109588,  0.5010821 ,  0.50109588,  0.5010821 ,\n",
              "          0.50109588,  0.5010821 ,  0.5010821 , -0.49888821, -0.49893381,\n",
              "          0.5010821 ,  0.50109588,  0.50109588,  0.5010821 ,  0.5010821 ,\n",
              "          0.50109588, -0.49888821, -0.49893381, -0.49888821, -0.49888821,\n",
              "          0.5010821 , -0.49888821, -0.49888821,  0.50109588, -0.49888821,\n",
              "         -0.49893381,  0.50109588,  0.50109588,  0.5010821 , -0.49888821,\n",
              "          0.50109588,  0.50109588, -0.49893381,  0.50109588,  0.50109588,\n",
              "         -0.49893381, -0.49888821, -0.49888821,  0.50109588, -0.49893381,\n",
              "          0.50109588,  0.5010821 ,  0.5010821 ,  0.50109588, -0.49888821,\n",
              "         -0.49888821,  0.50109588, -0.49893381, -0.49888821, -0.49893381,\n",
              "          0.5010821 , -0.49888821, -0.49888821, -0.49888821,  0.50109588,\n",
              "         -0.49893381,  0.50109588, -0.49888821, -0.49888821,  0.50109588,\n",
              "         -0.49888821, -0.49888821,  0.50109588,  0.50109588, -0.49888821,\n",
              "         -0.49888821, -0.49893381,  0.50109588, -0.49893381, -0.49893381,\n",
              "          0.50109588,  0.50109588,  0.50109588, -0.49893381, -0.49893381,\n",
              "         -0.49888821, -0.49888821, -0.49893381,  0.50109588, -0.49888821,\n",
              "         -0.49888821,  0.5010821 , -0.49888821,  0.50109588,  0.5010821 ,\n",
              "         -0.49893381,  0.50109588,  0.50109588, -0.49893381, -0.49888821,\n",
              "         -0.49888821,  0.5010821 , -0.49893381,  0.5010821 ,  0.5010821 ,\n",
              "          0.5010821 ,  0.50109588,  0.5010821 , -0.49888821, -0.49888821,\n",
              "         -0.49888821, -0.49893381, -0.49888821,  0.50109588,  0.5010821 ,\n",
              "         -0.49888821, -0.49893381,  0.5010821 ,  0.50109588,  0.50109588,\n",
              "         -0.49888821, -0.49893381,  0.50109588, -0.49893381,  0.50109588,\n",
              "         -0.49888821, -0.49893381,  0.50109588, -0.49888821, -0.49893381,\n",
              "         -0.49893381, -0.49893381,  0.50109588,  0.50109588,  0.5010821 ,\n",
              "         -0.49888821, -0.49893381,  0.50109588,  0.5010821 , -0.49888821,\n",
              "         -0.49888821,  0.50109588,  0.5010821 , -0.49888821,  0.50109588,\n",
              "          0.5010821 , -0.49893381, -0.49888821, -0.49893381, -0.49888821,\n",
              "          0.50109588,  0.50109588,  0.50109588,  0.50109588,  0.50109588,\n",
              "          0.50109588, -0.49893381, -0.49888821, -0.49888821, -0.49888821,\n",
              "         -0.49888821, -0.49888821,  0.50109588,  0.5010821 , -0.49893381,\n",
              "          0.50109588,  0.50109588,  0.5010821 ,  0.50109588, -0.49888821,\n",
              "         -0.49893381, -0.49893381,  0.5010821 , -0.49888821, -0.49888821,\n",
              "         -0.49888821, -0.49893381,  0.5010821 ,  0.50109588,  0.5010821 ,\n",
              "         -0.49893381,  0.5010821 ,  0.5010821 , -0.49893381,  0.50109588,\n",
              "         -0.49893381,  0.5010821 ,  0.5010821 ,  0.50109588, -0.49893381,\n",
              "          0.5010821 ,  0.50109588,  0.5010821 ,  0.5010821 , -0.49893381,\n",
              "          0.50109588, -0.49888821,  0.5010821 ,  0.50109588, -0.49888821,\n",
              "         -0.49888821, -0.49888821,  0.50109588,  0.5010821 , -0.49893381,\n",
              "          0.50109588, -0.49888821, -0.49888821,  0.50109588,  0.50109588,\n",
              "          0.5010821 , -0.49888821, -0.49888821, -0.49893381,  0.5010821 ,\n",
              "          0.50109588,  0.5010821 , -0.49888821, -0.49888821,  0.50109588,\n",
              "         -0.49888821, -0.49893381,  0.5010821 ,  0.5010821 , -0.49893381,\n",
              "         -0.49888821,  0.50109588,  0.50109588,  0.50109588, -0.49888821,\n",
              "         -0.49888821,  0.50109588, -0.49888821, -0.49893381,  0.50109588,\n",
              "          0.5010821 ,  0.5010821 , -0.49888821,  0.5010821 ,  0.50109588,\n",
              "         -0.49893381, -0.49893381,  0.50109588, -0.49893381, -0.49888821,\n",
              "         -0.49888821, -0.49893381, -0.49888821,  0.5010821 ,  0.50109588,\n",
              "          0.50109588,  0.50109588, -0.49888821, -0.49893381, -0.49888821,\n",
              "          0.50109588, -0.49888821,  0.5010821 , -0.49893381, -0.49893381,\n",
              "         -0.49888821, -0.49893381,  0.5010821 , -0.49893381, -0.49893381,\n",
              "         -0.49888821,  0.50109588, -0.49888821, -0.49888821,  0.50109588,\n",
              "          0.5010821 , -0.49893381,  0.50109588, -0.49888821, -0.49888821,\n",
              "         -0.49893381, -0.49888821,  0.50109588,  0.5010821 , -0.49893381,\n",
              "         -0.49888821,  0.5010821 , -0.49888821, -0.49888821, -0.49893381,\n",
              "         -0.49888821, -0.49893381,  0.5010821 ,  0.5010821 ,  0.5010821 ,\n",
              "          0.50109588, -0.49893381,  0.50109588, -0.49888821, -0.49888821,\n",
              "         -0.49888821,  0.50109588,  0.5010821 , -0.49888821, -0.49893381,\n",
              "          0.5010821 , -0.49893381,  0.5010821 ,  0.5010821 , -0.49888821,\n",
              "          0.5010821 , -0.49888821,  0.50109588,  0.50109588,  0.5010821 ,\n",
              "         -0.49893381, -0.49888821, -0.49888821,  0.5010821 ,  0.50109588,\n",
              "         -0.49888821,  0.5010821 ,  0.5010821 , -0.49888821, -0.49893381,\n",
              "          0.5010821 ,  0.5010821 , -0.49893381, -0.49888821, -0.49888821,\n",
              "         -0.49888821, -0.49888821,  0.5010821 ,  0.50109588, -0.49893381,\n",
              "         -0.49888821, -0.49888821, -0.49888821, -0.49888821,  0.5010821 ,\n",
              "         -0.49893381, -0.49888821, -0.49893381, -0.49888821,  0.50109588,\n",
              "          0.5010821 ,  0.5010821 ,  0.5010821 , -0.49888821, -0.49888821,\n",
              "         -0.49893381, -0.49888821, -0.49888821, -0.49893381,  0.5010821 ,\n",
              "         -0.49893381,  0.5010821 , -0.49893381,  0.50109588, -0.49888821,\n",
              "         -0.49888821,  0.5010821 , -0.49893381, -0.49888821, -0.49888821,\n",
              "          0.5010821 , -0.49888821, -0.49888821,  0.5010821 ,  0.50109588,\n",
              "         -0.49888821, -0.49888821,  0.50109588, -0.49888821,  0.5010821 ,\n",
              "         -0.49893381,  0.5010821 , -0.49888821,  0.5010821 , -0.49888821,\n",
              "          0.5010821 ,  0.5010821 ,  0.50109588, -0.49893381,  0.5010821 ,\n",
              "          0.50109588, -0.49888821, -0.49893381,  0.50109588, -0.49888821,\n",
              "          0.5010821 ,  0.5010821 , -0.49893381,  0.5010821 , -0.49888821,\n",
              "          0.50109588, -0.49893381, -0.49888821, -0.49893381, -0.49893381,\n",
              "         -0.49893381, -0.49893381, -0.49893381,  0.5010821 ,  0.5010821 ]]),\n",
              " 'db1': array([[ 7.64600530e-05],\n",
              "        [ 6.56401499e-05],\n",
              "        [-3.98627305e-05],\n",
              "        [-1.65641831e-04]]),\n",
              " 'db2': array([[-0.02890873]])}"
            ]
          },
          "metadata": {
            "tags": []
          },
          "execution_count": 21
        }
      ]
    },
    {
      "cell_type": "code",
      "metadata": {
        "id": "XxE72mE_0dwe",
        "colab_type": "code",
        "colab": {}
      },
      "source": [
        "#neural network model\n",
        "def nn_layer_network(X,Y,n_h, number_of_iteration = 1000, print_cost = False):\n",
        "  \n",
        "  #defini la structure du neural network\n",
        "  (n_x,n_y,n_h)= layer_size(X,Y)\n",
        " \n",
        "  #initialisation des paramètres\n",
        "  parameters = initialisation_parameters(n_x,n_h,n_y)\n",
        "  \n",
        "  for i in range (0,number_of_iteration):\n",
        "    #forward propagation\n",
        "    A1, A2, cache = forward_propagate(X,parameters)\n",
        "  \n",
        "    #calcul de la cost\n",
        "    cost = compute_cost (Y,A2)\n",
        "  \n",
        "    #backward propagation\n",
        "    grads = backward_propagate(parameters,cache,X,Y)\n",
        "  \n",
        "    #update parameters\n",
        "    parameters =  update_parameters(parameters,grads,learning_rate=1.5)\n",
        "  \n",
        "    #imprimer la cost après 1000 itérations:\n",
        "    \n",
        "    if i % 1000 == 0:\n",
        "      print(cost)\n",
        "  \n",
        "  return parameters "
      ],
      "execution_count": 0,
      "outputs": []
    },
    {
      "cell_type": "code",
      "metadata": {
        "id": "HQHe9t0t_B75",
        "colab_type": "code",
        "outputId": "7358dd7b-c83f-4e0a-df37-d0dfe06c1a01",
        "colab": {
          "base_uri": "https://localhost:8080/",
          "height": 272
        }
      },
      "source": [
        "parameters =  nn_layer_network(X,Y,n_h, number_of_iteration = 5000, print_cost = False)\n",
        "parameters  "
      ],
      "execution_count": 23,
      "outputs": [
        {
          "output_type": "stream",
          "text": [
            "0.6930143238498172\n",
            "0.012094910245222544\n",
            "0.0034216158366240073\n",
            "0.001964397511047301\n",
            "0.001372266890330065\n"
          ],
          "name": "stdout"
        },
        {
          "output_type": "execute_result",
          "data": {
            "text/plain": [
              "{'W1': array([[ 5.10014713, -4.88040522],\n",
              "        [ 4.94230842, -4.73256543],\n",
              "        [ 5.0479837 , -4.82316003],\n",
              "        [ 7.72502858, -7.76427674]]),\n",
              " 'W2': array([[-5.62572115, -5.28346645, -5.499232  , 15.71946383]]),\n",
              " 'b1': array([[ 2.49220943],\n",
              "        [ 2.42209213],\n",
              "        [ 2.46240921],\n",
              "        [-3.97244423]]),\n",
              " 'b2': array([[7.99737243]])}"
            ]
          },
          "metadata": {
            "tags": []
          },
          "execution_count": 23
        }
      ]
    },
    {
      "cell_type": "code",
      "metadata": {
        "id": "xVIDQtYGBX5P",
        "colab_type": "code",
        "colab": {}
      },
      "source": [
        "#prediction:\n",
        "\n",
        "def predict(parameters,X):\n",
        "  \n",
        "  # je fais passer la forward\n",
        "  A2, cache = forward_propagate(X,parameters)\n",
        "  pre\n",
        "  \n",
        "\n"
      ],
      "execution_count": 0,
      "outputs": []
    },
    {
      "cell_type": "code",
      "metadata": {
        "id": "rCdiNAk_rNjj",
        "colab_type": "code",
        "colab": {}
      },
      "source": [
        ""
      ],
      "execution_count": 0,
      "outputs": []
    }
  ]
}